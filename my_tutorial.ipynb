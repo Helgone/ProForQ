{
 "cells": [
  {
   "cell_type": "markdown",
   "metadata": {
    "id": "sbZ2TkOwxnuh"
   },
   "source": [
    "# Table of Contents\n",
    "\n",
    "* [Introduction to Model/Approach](#chapter1)\n",
    "    * [Goal of this tutorial](#section_1_1)\n",
    "    * [A simple model of the labor market](#Section_1_2)\n",
    "    \n",
    "        \n",
    "* [Data](#chapter2)\n",
    "    * [Eurostat Data](#section_2_1)\n",
    "    * [Data for this tutorial](#section_2_2)\n",
    "    * [Data in Python: Pandas and Data Formats](#section_2_3)\n",
    "        * [Setting up your pandas enviorment](#section_2_3_1)\n",
    "        * [Reading data into a dataframe](#section_2_3_2)\n",
    "        * [Creating a dataframe manually](#section_2_3_3)\n",
    "         \n",
    "    \n",
    "* [Set_Up](#chapter3)\n",
    "    * [Import all packages](#section_3_1)\n",
    "    * [Define the Folder](#section_3_2)\n",
    "    \n",
    "    \n",
    "* [Unemployment Rates](#chapter4)\n",
    "    * [Matplotlib](#section_4_1)\n",
    "    * [Import the measured Unemployment Rates](#section_4_2)\n",
    "    \n",
    "    \n",
    "* [Transition Rates](#chapter5)\n",
    "    * [The exec() function](#section_5_1)\n",
    "    * [Load all the excel files containing the aboslute data about persons moving between states](#section_5_2)\n",
    "    * [Compute transition rates](#section_5_3)\n",
    "    * [Export all the created DataFrames to .xlsx files](#section_5_4)\n",
    "    \n",
    "    \n",
    "* [Steady State Unemployment Rates](#chapter6)\n",
    "    * [Introduction to the Economic Side of Steady State Unemployment Rates](#section_6_1)\n",
    "    * [Compute Steady State Unemployment Rate for each country and period](#section_6_2)\n",
    "    * [Plot time series of measured Unemployment Rate and Steady State Unemployment Rate](#section_6_3)\n",
    "    * [New DataFrame with country averages](#section_6_4)\n",
    "    * [Add country codes to the DataFrame](#section_6_5)\n",
    "    * [Export DataFrame to a file](#section_6_6)\n",
    "    * [Define the Folder](#section_6_7)\n",
    "        * [Pickle](#section_6_7_1)\n",
    "        * [pandas.DataFrame.to_excel](#section_6_7_2)\n",
    "        \n",
    "        \n",
    "* [Model Performance](#chapter7)       \n",
    "    \n",
    "        \n",
    "    \n",
    "    \n",
    "    \n",
    "    \n",
    "        \n",
    "        "
   ]
  },
  {
   "cell_type": "markdown",
   "metadata": {
    "id": "l716hc9yxnum"
   },
   "source": [
    "# Introduction to Model/Approach <a class=\"anchor\" id=\"chapter1\"></a>"
   ]
  },
  {
   "cell_type": "markdown",
   "metadata": {
    "id": "d6bgb-1Dxnun"
   },
   "source": [
    "## Goal of this tutorial <a class=\"anchor\" id=\"section_1_1\"></a>"
   ]
  },
  {
   "cell_type": "markdown",
   "metadata": {
    "id": "rbAypzYfxnun"
   },
   "source": [
    "The goal of this tutorial is to present the features of the European labor market in Python consistently and with commentary. From a programming side, the main objective was working with data. From an economic side, the main objective was implementing an economic model and using programming to demonstrate features otherwise more difficult to demonstrate.\n",
    "\n",
    "This tutorial will focus mainly on the learnings from a programming perspective. However, this introduction will set up the background from an economic side to orientate the reader. There will be additional economic commentary throughout the sections."
   ]
  },
  {
   "cell_type": "markdown",
   "metadata": {
    "id": "B9oKB8tNxnun"
   },
   "source": [
    "## A simple model of the labor market <a class=\"anchor\" id=\"section_1_2\"></a>"
   ]
  },
  {
   "cell_type": "markdown",
   "metadata": {
    "id": "M1H98huAxnuo"
   },
   "source": [
    "A simple model of the labor market that is used in this tutorial catagorizes three states a working-age person can be in:\n",
    "1. Employed E\n",
    "2. Unemployed U\n",
    "3. Inactive or out of the labor force N\n",
    "\n",
    "Using three states you can analysze labor market indicators:\n",
    "\n",
    "* __Participation Rate__:  $$ \\frac{E + U}{E + U + N}\\label{eq1}\\tag{1} $$\n",
    "\n",
    "* **Employment Rate**: $$ \\frac{E}{E + U + N}\\label{eq2}\\tag{2} $$\n",
    "\n",
    "* **Unemployment Rate**: $$ \\frac{U}{E + U}\\label{eq3}\\tag{3} $$\n",
    "\n",
    "The flows of people from one state to another are called **transitions**. Transition rates are calculated from using data that shows the beginning and end value of people in states, and then is calculated from the change.\n",
    "\n",
    "For example, UE transition rates represent the percentage of people unemployed at the beginning of the period that transition to being employed.\n",
    "\n",
    "It can be used to approximate how likely it is for an unemployed person to find a job (Job finding probablity).\n",
    "\n",
    "This will be elaborated upon further in the tutorial as it specific to certain sections."
   ]
  },
  {
   "cell_type": "markdown",
   "metadata": {
    "id": "0lAi1Yv-xnuo"
   },
   "source": [
    "# Data <a class=\"anchor\" id=\"chapter2\"></a>"
   ]
  },
  {
   "cell_type": "markdown",
   "metadata": {
    "id": "YmOJBkCcxnuo"
   },
   "source": [
    "## Eurostat Data <a class=\"anchor\" id=\"section_2_1\"></a>"
   ]
  },
  {
   "cell_type": "markdown",
   "metadata": {
    "id": "a5pIHMdExnup"
   },
   "source": [
    "In order to compare the different dynamics of countries related to transition rates and unemployment rates, data needs to be collected systematically and in a reliable manner. All data used in this tutorial is extracted from Eurostat which is an adminitrative branch of the European Commission located in Luxembourg. Its responsability is to provide statistical information to the institutions of the European Union and to encourage the harmonisation of statistical methods in order to ease comparison between data. In this section, we will discuss how Eurostat gather data and the degree of relability of its operations. Eurostat publishes its statistical database online for free on its [website](https://ec.europa.eu/eurostat)."
   ]
  },
  {
   "cell_type": "markdown",
   "metadata": {
    "id": "q54O_Pzpxnup"
   },
   "source": [
    "The data that will interest us in this tutorial are the one related to the **European Labor market**. The European Labor Force Survey is a survey conducted by Eurostat in order to find those data. The latter are obtained by interviewing a large sample of individuals directly. This data collection takes place over on a monthly, quarterly and annually basis. The European Labor Force Survey collects data by 4 manners:\n",
    "\n",
    "- Personal visits\n",
    "- Telephone interviews\n",
    "- Web interviews\n",
    "- Self-administered questionnaires (questionnaire that has been designed specifically to be completed by a respondent without intervention of the researchers)\n",
    "\n",
    "The overall accuracy of these methods have been proved to be high. Retrospectively, the results have been found to lay in a 95% confidence interval. For more information related to how Eurostat collects its data, you can consult this [page](https://ec.europa.eu/eurostat/cros/content/data-collection_en).\n"
   ]
  },
  {
   "cell_type": "markdown",
   "metadata": {
    "id": "FlG74BRhxnup"
   },
   "source": [
    "## Data for this tutorial <a class=\"anchor\" id=\"section_2_2\"></a>"
   ]
  },
  {
   "cell_type": "markdown",
   "metadata": {
    "id": "oGERpYwBxnup"
   },
   "source": [
    "In Eurostat, you are able to download a .tsv file. Tsv files are similar to csv but use tabs to separate data instead of commas like in csv files. Or, you can use the Pyrostat API for python. However, the documentation at the moment of creating this tutorial is not clear enough to present in a clear way. It is based upon a json and unicode REST api from the eurostat page, but is beyond the scope of this tutorial. For more information see [eurostat web services](https://ec.europa.eu/eurostat/web/json-and-unicode-web-services) and [pyrostat](https://github.com/eurostat/pyrostat).\n",
    "\n",
    "The data used for this tutorial comes from the Eurostat website. In particular, the data set (sdg_08_30) with information [here](https://ec.europa.eu/eurostat/cache/metadata/en/sdg_08_30_esmsip2.htm).\n",
    "\n",
    "Therefore, the rest of the tutorial will focus on data import, cleaning and analysis starting with the provided Excel files from this class."
   ]
  },
  {
   "cell_type": "markdown",
   "metadata": {
    "id": "TfDtJf2Zxnuq"
   },
   "source": [
    "## Data in Python: Pandas and Data Formats <a class=\"anchor\" id=\"section_2_3\"></a>"
   ]
  },
  {
   "cell_type": "markdown",
   "metadata": {
    "id": "3pSQo9Gxxnuq"
   },
   "source": [
    "This section will give a basic introduction into how data works in python and programming. Data in general can be stored in several different formats that organize it. The basic formats have been introduced in past tutorials (lists, dictionaries, tuples). More advanced ones are:\n",
    "1. Unstructured data files of .txt.\n",
    "2. Or structured data files:\n",
    "    * CSV files such as excel that separate data cells with a comma and creates tables.\n",
    "    * TSV files that separate data cells with tabs.\n",
    "\n",
    "They can be imported into python and stored in a data frame using the python extension pandas. The advantage of data frames is the wide variety of operations you can perform on them in python since it is a python object ([source](https://towardsdatascience.com/a-quick-introduction-to-the-pandas-python-library-f1b678f34673)).\n",
    "\n",
    "As a pandas dataframe is structed by rows and column, it is easier to select data compared to a list or a dictionary. You can also easily filter by column or row in order to derive conclusions or structure the data set for analysis. You can also join different pandas datasets as well as clean data easier than if you were working with another data type. These examples are elaborated upon below."
   ]
  },
  {
   "cell_type": "markdown",
   "metadata": {
    "id": "Lp1XjzhWxnuq"
   },
   "source": [
    "### Setting up your pandas enviorment <a class=\"anchor\" id=\"section_2_3_1\"></a>"
   ]
  },
  {
   "cell_type": "markdown",
   "metadata": {
    "id": "rnWSyuoZxnur"
   },
   "source": [
    "It is often easy to import pandas as pd such so it easier to call it later on.\n",
    "\n",
    "`import pandas as pd`\n",
    "\n",
    "Additonally, it is common to also import it with the package *numpy*\n",
    "\n",
    "`import numpy as np`\n",
    "\n",
    "Numpy is used for analysis and computing in python."
   ]
  },
  {
   "cell_type": "markdown",
   "metadata": {
    "id": "ehxb-LfRxnur"
   },
   "source": [
    "### Reading data into a dataframe <a class=\"anchor\" id=\"section_2_3_2\"></a>"
   ]
  },
  {
   "cell_type": "markdown",
   "metadata": {
    "id": "GhzwHjuhxnur"
   },
   "source": [
    "In order to convert structured files into a pandas data frame there are a variety of options that you can find here: [List of pandas functionalities](https://pandas.pydata.org/pandas-docs/stable/reference/index.html). Some examples are the ability to convert excel, json, html, csv, pickle, and sql. These are generally formatted as:\n",
    "\n",
    "`read_excel\n",
    "read_pickle\n",
    "read_json\n",
    "read_html\n",
    "etc.\n",
    "`\n",
    "\n"
   ]
  },
  {
   "cell_type": "markdown",
   "metadata": {
    "id": "5Xa61xABxnur"
   },
   "source": [
    "### Creating a dataframe manually <a class=\"anchor\" id=\"section_2_3_3\"></a>"
   ]
  },
  {
   "cell_type": "markdown",
   "metadata": {
    "id": "sHRClwkKxnur"
   },
   "source": [
    "There is also the option with pandas to create a dataframe either manually or by using existing lists or dictionaries.\n",
    "\n",
    "For example, dataframes can be created from dictionaries."
   ]
  },
  {
   "cell_type": "code",
   "execution_count": 30,
   "metadata": {
    "colab": {
     "base_uri": "https://localhost:8080/",
     "height": 77
    },
    "executionInfo": {
     "elapsed": 953,
     "status": "ok",
     "timestamp": 1614425484153,
     "user": {
      "displayName": "Gianluca Vanacore",
      "photoUrl": "",
      "userId": "06404241270689432270"
     },
     "user_tz": -60
    },
    "id": "tmeWEu-Zxnus",
    "outputId": "1031bc7c-87fe-4390-8af2-553abaa7e90a"
   },
   "outputs": [
    {
     "data": {
      "text/html": [
       "<div>\n",
       "<style scoped>\n",
       "    .dataframe tbody tr th:only-of-type {\n",
       "        vertical-align: middle;\n",
       "    }\n",
       "\n",
       "    .dataframe tbody tr th {\n",
       "        vertical-align: top;\n",
       "    }\n",
       "\n",
       "    .dataframe thead th {\n",
       "        text-align: right;\n",
       "    }\n",
       "</style>\n",
       "<table border=\"1\" class=\"dataframe\">\n",
       "  <thead>\n",
       "    <tr style=\"text-align: right;\">\n",
       "      <th></th>\n",
       "      <th>apples</th>\n",
       "      <th>oranges</th>\n",
       "      <th>cucumber</th>\n",
       "      <th>spinach</th>\n",
       "      <th>beef</th>\n",
       "      <th>pepper</th>\n",
       "      <th>banana</th>\n",
       "    </tr>\n",
       "  </thead>\n",
       "  <tbody>\n",
       "    <tr>\n",
       "      <th>category</th>\n",
       "      <td>fruit</td>\n",
       "      <td>fruit</td>\n",
       "      <td>vegetable</td>\n",
       "      <td>vegetable</td>\n",
       "      <td>meat</td>\n",
       "      <td>vegetable</td>\n",
       "      <td>fruit</td>\n",
       "    </tr>\n",
       "  </tbody>\n",
       "</table>\n",
       "</div>"
      ],
      "text/plain": [
       "         apples oranges   cucumber    spinach  beef     pepper banana\n",
       "category  fruit   fruit  vegetable  vegetable  meat  vegetable  fruit"
      ]
     },
     "execution_count": 30,
     "metadata": {
      "tags": []
     },
     "output_type": "execute_result"
    }
   ],
   "source": [
    "import pandas as pd\n",
    "#here, creating a food dictionary setting categories\n",
    "food_categories={\"apples\":\"fruit\",\n",
    "                  \"oranges\":\"fruit\",\n",
    "                  \"cucumber\":\"vegetable\",\n",
    "                  \"spinach\":\"vegetable\",\n",
    "                  \"beef\":\"meat\",\n",
    "                  \"pepper\":\"vegetable\",\n",
    "                  \"banana\":\"fruit\"\n",
    "                    }\n",
    "#created dataframe setting category as the index\n",
    "food_cat_df=pd.DataFrame(food_categories, index=[\"category\"])  \n",
    "food_cat_df\n"
   ]
  },
  {
   "cell_type": "markdown",
   "metadata": {
    "id": "K8r1x0yixnut"
   },
   "source": [
    "Some other useful functions for dataframe in pandas will be used below, but are:\n",
    "\n",
    "* Transposing, or transforming columns into rows: df.T\n",
    "* Sorting by axis or values: df.sort_index(axis=1) or df.sort_values(by='category')\n",
    "* Selecting a single column: df['Fruit']\n",
    "* Statistic operations such as df.mean()\n",
    "* Merging and appending: pd.merge(), df.append(, pd.concat()\n",
    "\n",
    "The pandas documentation provides a very good description of what you can do with dataframes and if there is something that interests you beyond the application of this tutorial, it may very likely be found at [Pandas Documentation](https://pandas.pydata.org/pandas-docs/stable/getting_started/overview.html)."
   ]
  },
  {
   "cell_type": "markdown",
   "metadata": {
    "id": "siuGD466xnut"
   },
   "source": [
    "# Set-Up"
   ]
  },
  {
   "cell_type": "markdown",
   "metadata": {
    "id": "V0jF7u3bxnuu"
   },
   "source": [
    "## Import all packages"
   ]
  },
  {
   "cell_type": "markdown",
   "metadata": {
    "id": "GfNZy2wcxnuu"
   },
   "source": [
    "Here, we will import all the packages that are used in the program. As packages have not been introduced in past tutorials, we will explain them in Python briefly.\n",
    "\n",
    "First, if running a Python program on your local hardrive for example in spydir, it will be necessary to install a package on your computer or a virtual enviorment (venv or virtualenv). Virtual enviorments allow you to separate packages and versions for individual projects. For more information see [section for creating virtual enviorments](https://packaging.python.org/tutorials/installing-packages/). Otherwise, Python will not be able to understand to what you are refering as it will not be defined. It is suggested you use the functionality [pip](https://pip.pypa.io/en/stable/user_guide/) which allows you to install from the [python packaging index](https://packaging.python.org/tutorials/installing-packages/).\n",
    "\n",
    "Once a packages has been installed, you may then import the function into a piece of code.\n",
    "\n",
    "However, for the purpose of this tutorial, jupyter does not require you to pip install the following packages. For convience and clarity, they will be imported in this section, but we will reference the specific libraries as a note throughout the tutorial."
   ]
  },
  {
   "cell_type": "code",
   "execution_count": 31,
   "metadata": {
    "executionInfo": {
     "elapsed": 2424,
     "status": "ok",
     "timestamp": 1614425485630,
     "user": {
      "displayName": "Gianluca Vanacore",
      "photoUrl": "",
      "userId": "06404241270689432270"
     },
     "user_tz": -60
    },
    "id": "GiPs6M5vxnuu"
   },
   "outputs": [],
   "source": [
    "import pandas as pd\n",
    "import numpy as np \n",
    "import matplotlib\n",
    "import matplotlib.pyplot as plt \n",
    "from pandas import ExcelWriter\n",
    "from pandas import ExcelFile\n",
    "import math\n",
    "import statsmodels as sm"
   ]
  },
  {
   "cell_type": "markdown",
   "metadata": {
    "id": "axi33F-gxnuu"
   },
   "source": [
    "## Define the Folder"
   ]
  },
  {
   "cell_type": "markdown",
   "metadata": {
    "id": "IlhOuruSxnuu"
   },
   "source": [
    "Our data is in three different local folders:\n",
    "\n",
    "* `Total/` for all the working-age population.\n",
    "* `Female/` for only the working-age females.\n",
    "- `Male/` for only the working-age males.\n",
    "\n",
    "In this case it makes sense to specify which folder to use in advance. If we want to change from `Total/` to `Female/` later on, we can easily change the variable sex instead of having to search for the name of the folder in the whole code. The same holds true for the variable *myfolder*, if the location of the data changes later on, we can apply that change right here instead of searching for all the times we used that filepath.\n",
    "\n",
    "In general, the easiest way to find locally saved files with python on a mac is to use a relative filepath. This means Python starts searching for the file from the location of the Python code we are currently working with. Here, the folder *EuropesLM_Data/* is located within the same folder as the notebook. From there, Python proceeds by entering the *Male/* folder and then accesses whatever we specify later on. To execute everything the way we do in this tutorial, you should place the jupyter notebook in the same folder as the file *country_codes.xlsx* and the folder *EuropesLM_Data*.\n",
    "\n",
    "If on Windows, the easiest way is to use a full filepath, starting at the `C:/` directory and specifiing all steps to go from there."
   ]
  },
  {
   "cell_type": "code",
   "execution_count": 32,
   "metadata": {
    "executionInfo": {
     "elapsed": 2422,
     "status": "ok",
     "timestamp": 1614425485631,
     "user": {
      "displayName": "Gianluca Vanacore",
      "photoUrl": "",
      "userId": "06404241270689432270"
     },
     "user_tz": -60
    },
    "id": "3EYBJ3yjxnuu"
   },
   "outputs": [],
   "source": [
    "sex = 'Male'\n",
    "myfolder = \"sample_data/\" + sex + \"/\""
   ]
  },
  {
   "cell_type": "code",
   "execution_count": 33,
   "metadata": {
    "colab": {
     "base_uri": "https://localhost:8080/"
    },
    "executionInfo": {
     "elapsed": 29550,
     "status": "ok",
     "timestamp": 1614425512766,
     "user": {
      "displayName": "Gianluca Vanacore",
      "photoUrl": "",
      "userId": "06404241270689432270"
     },
     "user_tz": -60
    },
    "id": "HncAEUDGE97S",
    "outputId": "9b5c7ccd-72ed-4603-ceda-f5a0e43e301a"
   },
   "outputs": [
    {
     "name": "stdout",
     "output_type": "stream",
     "text": [
      "Mounted at /content/drive\n"
     ]
    }
   ],
   "source": [
    "from google.colab import drive\n",
    "drive.mount('/content/drive')"
   ]
  },
  {
   "cell_type": "markdown",
   "metadata": {
    "id": "mly8ph4Cxnuu"
   },
   "source": [
    "# Unemployment Rates"
   ]
  },
  {
   "cell_type": "markdown",
   "metadata": {
    "id": "4qitgdlpxnuv"
   },
   "source": [
    "Almost all countries in the world have developed a system and the infrastructure to record and approximate the unemployment rate of the labor force as accurately as possible. In order to understand its significance we shall agree on a clear definition in more detail than what was provided earlier. There are numerous definitions since the methodology for calculating the unemployment rate often varies among countries. Different definitions of employment and unemployment, as well as different data sources are used but the consensus is the following: unemployed people are those who are willing and available to work, and who have actively sought work within the past four weeks. Students, prisoners, or for example handicapped people do not match the definition and are not considered as unemployed but out of the labor force.\n",
    "\n",
    "To calculate the unemployment rate, the number of unemployed people is divided by the number of people in the labor force, which consists of all employed and unemployed people.\n",
    "\n",
    "***\n",
    "\n",
    "$\\mathbf{\\text{Unemployment rate}}$<br>\n",
    "***\n",
    "$$\\textrm{Unemployment rate} = \\frac{\\textrm{Number of unenployed people}}{\\textrm{Total Labour Force}}$$\n",
    "\n",
    "***\n",
    "\n",
    "Before we plot the unemployment rate for different countries, we want to give a little introduction to plotting in general."
   ]
  },
  {
   "cell_type": "markdown",
   "metadata": {
    "id": "7gxvMyPtxnuv"
   },
   "source": [
    "## Matplotlib"
   ]
  },
  {
   "cell_type": "markdown",
   "metadata": {
    "id": "vMN0KAUtxnuv"
   },
   "source": [
    "The most common library for plotting in python is [`Matplotlib`](https://matplotlib.org/stable/index.html). We are going to introduce its most important functionalities with some basic examples in the following section. In the following parts, we will further specify the functionalities when we use them."
   ]
  },
  {
   "cell_type": "markdown",
   "metadata": {
    "id": "jJ7qcom8xnuv"
   },
   "source": [
    "```python\n",
    "import matplotlib\n",
    "import matplotlib.pyplot as plt\n",
    "import numpy as np\n",
    "import math\n",
    "import pandas as pd\n",
    "\n",
    "```"
   ]
  },
  {
   "cell_type": "markdown",
   "metadata": {
    "id": "rMeZuwO2xnuv"
   },
   "source": [
    "To show the basic functionality of Matplotlib, here we create a sample plot\n",
    "\n",
    "* The List items in the argument of `plt.plot` contain the x and y coordinates, to refer to it later, we can add the argument label\n",
    "* If we want to see the plot in the Jupyter Notebook, we have to call the `plt.show` function"
   ]
  },
  {
   "cell_type": "code",
   "execution_count": 34,
   "metadata": {
    "colab": {
     "base_uri": "https://localhost:8080/",
     "height": 346
    },
    "executionInfo": {
     "elapsed": 30550,
     "status": "ok",
     "timestamp": 1614425513768,
     "user": {
      "displayName": "Gianluca Vanacore",
      "photoUrl": "",
      "userId": "06404241270689432270"
     },
     "user_tz": -60
    },
    "hide_input": false,
    "id": "IH_vxOXOxnuv",
    "outputId": "c78f8a73-3c0b-45ab-b7f0-1956a5918f68"
   },
   "outputs": [
    {
     "data": {
      "image/png": "[encoded data removed]",
      "text/plain": [
       "<Figure size 576x396 with 1 Axes>"
      ]
     },
     "metadata": {
      "tags": []
     },
     "output_type": "display_data"
    }
   ],
   "source": [
    "plt.plot([1, 5, 3, 4, 7, 9],[1, 3, 3, 5, 7, 9], label = \"Random Graph\")\n",
    "plt.show()\n"
   ]
  },
  {
   "cell_type": "markdown",
   "metadata": {
    "id": "Df16bdk5xnuv"
   },
   "source": [
    "* Using `plt.ylabel`, we can give names to the axes\n",
    "* To make our plot look a little better, we use `plt.style.use()`. There's a variety of styles available [here](https://matplotlib.org/stable/gallery/style_sheets/style_sheets_reference.html)\n",
    "* The plot's title can be set with `plt.title()`\n",
    "* To see our labels in the plot, we simply call `plt.legend`, the location can be specified using the loc argument\n",
    "* If we want to show multiple graphs in one plot, we simply call `plt.plot()` again before calling `plt.show`."
   ]
  },
  {
   "cell_type": "code",
   "execution_count": 35,
   "metadata": {
    "colab": {
     "base_uri": "https://localhost:8080/",
     "height": 364
    },
    "executionInfo": {
     "elapsed": 30548,
     "status": "ok",
     "timestamp": 1614425513769,
     "user": {
      "displayName": "Gianluca Vanacore",
      "photoUrl": "",
      "userId": "06404241270689432270"
     },
     "user_tz": -60
    },
    "hide_input": false,
    "id": "Qg6bHfoPxnuw",
    "outputId": "abad8cc1-5199-4030-86a6-269ccdd29917"
   },
   "outputs": [
    {
     "data": {
      "image/png": "[encoded data removed]",
      "text/plain": [
       "<Figure size 576x396 with 1 Axes>"
      ]
     },
     "metadata": {
      "tags": []
     },
     "output_type": "display_data"
    }
   ],
   "source": [
    "plt.plot([1, 3, 6],[1, 3, 6], label = \"Linear\")\n",
    "plt.plot([1, 4, 5],[1, 3, 6], label = \"Not so Linear\")\n",
    "\n",
    "plt.ylabel(\"Some Random Numbers\", fontsize = 15)\n",
    "plt.style.use(\"seaborn\")\n",
    "plt.title(\"This is a random plot\", fontsize = 15)\n",
    "plt.legend(loc = \"center right\", fontsize = 10)\n",
    "plt.show()"
   ]
  },
  {
   "cell_type": "markdown",
   "metadata": {
    "id": "DGkO-z95xnuw"
   },
   "source": [
    "After this short introduction, we wanet to start by importing and plotting the measured unemployment rates."
   ]
  },
  {
   "cell_type": "markdown",
   "metadata": {
    "id": "vZm0MpxIxnuw"
   },
   "source": [
    "## Import the measured Unemployment Rates"
   ]
  },
  {
   "cell_type": "markdown",
   "metadata": {
    "id": "LqmHCkLcxnuw"
   },
   "source": [
    "The easiest way to handle our data is a [`pandas.DataFrame`](https://pandas.pydata.org/pandas-docs/stable/reference/api/pandas.DataFrame.html). Fortunately, Pandas as a useful function to read Excel files and create DataFrames out of them: [`pandas.read_excel`](https://pandas.pydata.org/pandas-docs/stable/reference/api/pandas.read_excel.html).\n",
    "\n",
    "However, depending on the shape of the data, there can be difficulties when handling Excel files with pandas. In our case that includes:\n",
    "\n",
    "1. Rows at the beginning of the spreadsheet that don't contain the data we're looking for and that we'd therefore like to skip when reading the Excel into a DataFrame.\n",
    "\n",
    "2. The shape of the Excel file is not in the way that would be conventional for [pandas](https://pandas.pydata.org/pandas-docs/stable/). The index (the time period) is usually in the rows instead of the columns.\n",
    "\n",
    "3. Eurostat records missing data with \":\" and a separate sheet for flags, while NaN is the proper way to record missing observations. This means we'll have to set all the missing observations to *NaN*.\n",
    "\n",
    "4. Some Country names, for example \"Germany (until 1990 former territory of the FRG)\" are in a format that makes it hard to use them in loops and other functionalities of python.\n",
    "\n",
    "5. To work efficiently with `pandas` classes, it is important to use the right [indexing](https://pandas.pydata.org/pandas-docs/stable/user_guide/indexing.html). In this case we are dealing with (a set of) [time series](https://pandas.pydata.org/pandas-docs/stable/user_guide/timeseries.html), so we want the index to have the proper functionality. In particular, our data refers to a full calendar year quarter which can be represented using a [period](https://pandas.pydata.org/pandas-docs/stable/user_guide/timeseries.html). This sort of information cannot be read from the Excel file as the reference to the quarters there is just a string.\n",
    "\n",
    "At the beginning, let's load the first sheet containing the actual data into a `pandas.DataFrame`. In this case, the `pd.read_excel` function gets five inputs:\n",
    "\n",
    "1. *aux_name*, the name and location of the file. We store it in a variable right away, that way the code is more readable and we can easily change it later\n",
    "\n",
    "2. *skiprows*, the information to skip the first 11 rows, these are the rows that don't contain necessary information\n",
    "\n",
    "3. *index_col*, which column to use as the DataFrame's index\n",
    "\n",
    "4. *sheet_name*, which of the Excel's sheets to use, the default would be 0, the first sheet"
   ]
  },
  {
   "cell_type": "markdown",
   "metadata": {
    "id": "ayzxd0LCxnuw"
   },
   "source": [
    "```python\n",
    "# We store the filename in a variable, that makes it easier to change it later\n",
    "aux_name = myfolder + \"lfsq_urgan.xls\"\n",
    "# Next, read the first Excel sheet\n",
    "aux_data = pd.read_excel(aux_name, skiprows=11, index_col=0, sheet_name='Data')\n",
    "aux_data\n",
    "```"
   ]
  },
  {
   "cell_type": "markdown",
   "metadata": {
    "id": "iGEc1ki2xnuw"
   },
   "source": [
    "After creating the `Pandas.DataFrame` , we want to start cleaning the data. As mentioned, there are two ways in which Eurostat records missing data. The first is by setting the otherwise empty cells to \":\". We can change those to NaN easily by using [`pandas.DataFrame.replace`](https://pandas.pydata.org/pandas-docs/stable/reference/api/pandas.DataFrame.replace.html) and giving the function the inputs:\n",
    "\n",
    "* \":\" - what should be replaced\n",
    "\n",
    "* \"np.NaN\" - the NaN functionality of Numpy that should be replaced with\n",
    "\n",
    "It will continue to find all \":\" in *aux_data* and replace them with NaN. Note that those are not just different strings but a method of numpy."
   ]
  },
  {
   "cell_type": "markdown",
   "metadata": {
    "id": "SoE6H_Fcxnuw"
   },
   "source": [
    "```python\n",
    "aux_data = aux_data.replace(':', np.NaN)\n",
    "```"
   ]
  },
  {
   "cell_type": "markdown",
   "metadata": {
    "id": "CbLxsxWoxnux"
   },
   "source": [
    "After the first sheet, we now want to create a second `Pandas.DataFrame` for the *flags* sheet of our excel file. The second sheet has the same format and contains flags for bad data. We will use it to set all those cells in *aux_data* to `np.nan`.\n",
    "\n",
    "Besides the inputs we used when reading the first sheet, here the function also gets the input:\n",
    "\n",
    "* *nrows = aux_data.shape[0]*, nrows tells `read_excel` how many rows to parse and [`pandas.DataFrame.shape`](https://pandas.pydata.org/pandas-docs/stable/reference/api/pandas.DataFrame.shape.html) passes the number of rows of our DataFrame *aux_data* as an integer."
   ]
  },
  {
   "cell_type": "markdown",
   "metadata": {
    "id": "C6XfUP3oxnux"
   },
   "source": [
    "```python\n",
    "aux_flags = pd.read_excel(aux_name, skiprows=11, index_col=0, nrows=aux_data.shape[0], sheet_name='Flags and Footnotes')\n",
    "```"
   ]
  },
  {
   "cell_type": "markdown",
   "metadata": {
    "id": "Z-PwiXWfxnux"
   },
   "source": [
    "To prepare the DataFrames for later indexing, we have to transpose them. This is possible with the `DataFrame.T` function. What it does is basically to exchange columns and rows of the DataFrame."
   ]
  },
  {
   "cell_type": "markdown",
   "metadata": {
    "id": "a-jsmM7_xnux"
   },
   "source": [
    "```python\n",
    "aux_data = aux_data.T\n",
    "aux_flags = aux_flags.T\n",
    "```"
   ]
  },
  {
   "cell_type": "markdown",
   "metadata": {
    "id": "gVZjqjdkxnux"
   },
   "source": [
    "To find the cells in *aux_data* that correspond to flags in *aux_flags* and set them to NaN, we will use a function. This function will later:\n",
    "\n",
    "1. Iterate over the cells of our DataFrame\n",
    "\n",
    "2. Compare each cell of the *flags* sheet with the corresponding one in the *data* sheet\n",
    "\n",
    "3. Set the cell to *NaN* if the *flags* sheet contains a string.\n",
    "\n",
    "\n",
    "The iteration process works as follows:\n",
    "\n",
    "* We pass our DataFrames using [pandas.DataFrame.values](https://pandas.pydata.org/pandas-docs/stable/reference/api/pandas.DataFrame.values.html). It converts the DataFrames into a Numpy Array object which can be handled by the enumerate function.\n",
    "\n",
    "* Enumerate is extremely useful, it lets us iterate over someting (like a list) and automatically assign a counter to it\n",
    "\n",
    "\n",
    "In our case that will be the row and column number (integers) of the values in the passed DataFrame.values. That also explains why we convert the DataFrames into Numpy arrays - we can't adress a cell in a DataFrame by calling `DataFrame[row_number, column_number]` but we can do the same with a Numpy array."
   ]
  },
  {
   "cell_type": "markdown",
   "metadata": {
    "id": "I6iyPHD6xnux"
   },
   "source": [
    "```python\n",
    "# Our function get's two inputs, both of which will be sheets of an Excel file\n",
    "def flags_to_NaN(data,flags):\n",
    "    # Iterate over the array, return rows with their number\n",
    "    for row, l in enumerate(flags):\n",
    "        # Iterate over the row from the last line, return a single value with its column number\n",
    "        for column, value in enumerate(l):\n",
    "            # Check for strings\n",
    "            if type(value) is str:\n",
    "                data[row,column] = np.nan\n",
    "    return data\n",
    "```"
   ]
  },
  {
   "cell_type": "markdown",
   "metadata": {
    "id": "FykFz5jgxnux"
   },
   "source": [
    "Now we apply our function to the DataFrames we created in the previous steps. In detail, it does this:\n",
    "\n",
    "1. `for row, l in enumerate(flags)`: This returns *row*, the row number and l, what the row contains (Something similar to: ['b' nan nan nan nan])\n",
    "\n",
    "2. `for column, value in enumerate(l)`: This returns *column*, the location of the value in *l* ('b' would be 0) and value, the value itself ('b')\n",
    "\n",
    "3. Then it checks if the value it has found is a string (The missing values are recorded with flags like 'b' or 'u'). If it is, it searches the exact same location in the array with the data (they have the same format so the rows and columns correspond) and sets it to np.nan\n",
    "\n",
    "We save the cleaned DataFrame as *mydata*."
   ]
  },
  {
   "cell_type": "markdown",
   "metadata": {
    "id": "Cq0i3Tbixnux"
   },
   "source": [
    "```python\n",
    "aux_values = flags_to_NaN(aux_data.values, aux_flags.values)\n",
    "mydata = pd.DataFrame(aux_values)\n",
    "```"
   ]
  },
  {
   "cell_type": "markdown",
   "metadata": {
    "id": "m_ZK1_bHxnuy"
   },
   "source": [
    "To make working with the final DataFrame easier, we'll now simplify the names of *Germany* and *Macedonia*. The ?`DataFrame.rename` method takes input in form of a dictionary containing:\n",
    "\n",
    "1. The old column name as *Key*\n",
    "\n",
    "2. The new column name it should be changed to as *Value*"
   ]
  },
  {
   "cell_type": "markdown",
   "metadata": {
    "id": "flm3QtpExnuy"
   },
   "source": [
    "```python\n",
    "aux_data = aux_data.rename(columns = {'Former Yugoslav Republic of Macedonia, the':'Macedonia'})\n",
    "aux_data = aux_data.rename(columns = {'Germany (until 1990 former territory of the FRG)':'Germany'})\n",
    "```"
   ]
  },
  {
   "cell_type": "markdown",
   "metadata": {
    "id": "SVXzU_WZxnuy"
   },
   "source": [
    "Now, let's create a [`pd.period_range`](https://pandas.pydata.org/pandas-docs/stable/reference/api/pandas.period_range.html) called \"dates\" which we will use as an index for our final DataFrame. This practical function gets three important inputs:\n",
    "\n",
    "1. Start and end of the `pd.period_range`.\n",
    "2. The frequency \"Q\". This way it knows only to create new datapoints quarterly, instead of monthly or weekly.\n",
    "3. The name 'Quarterly Frequence'.\n",
    "4. It returns a Period Index with a fixed frequency that we can use as index for our DataFrame."
   ]
  },
  {
   "cell_type": "markdown",
   "metadata": {
    "id": "-9FtABtxxnuy"
   },
   "source": [
    "```python\n",
    "import pandas as pd\n",
    "# Create the pd.period_range\n",
    "dates = pd.period_range(start='2010Q2', end='2017Q4', freq='Q', name='Quarterly Frequence')\n",
    "# Set mydata's index to be the Period \"dates\" we just created\n",
    "mydata.index = dates\n",
    "```"
   ]
  },
  {
   "cell_type": "markdown",
   "metadata": {
    "id": "1GHn1qwQxnuy"
   },
   "source": [
    "At last, some minor changes before we finish our DataFrame mydata:\n",
    "\n",
    "1. Correct the column names. We can simply re-use the names of the colums of aux_data.\n",
    "2. Drop the *Germany* column, the data in there is damaged and would cause trouble later.\n",
    "3. Give the column-row a fitting name."
   ]
  },
  {
   "cell_type": "markdown",
   "metadata": {
    "id": "N4ObvUYHxnuy"
   },
   "source": [
    "```python\n",
    "# To set the names of the countries as column names, \n",
    "mydata.columns = aux_data.columns\n",
    "\n",
    "# Drop Germany\n",
    "mydata = mydata.drop(['Germany'], axis=1)\n",
    "\n",
    "# Update the name of the columns list\n",
    "mydata.columns.name = 'Countries'\n",
    "```"
   ]
  },
  {
   "cell_type": "markdown",
   "metadata": {
    "id": "8DJSBm-ixnuy"
   },
   "source": [
    "1. Seasonally adjust the data.\n",
    "\n",
    "To prevent the data being influenced by strong seasonal deviations, we will use a \"moving average\". We calculate it by using:\n",
    "\n",
    "1. [`pandas.DataFrame.rolling`](https://pandas.pydata.org/pandas-docs/stable/reference/api/pandas.DataFrame.rolling.html), which works by always looking at 4 rows of the DataFrame. In our case, that equates to one year.\n",
    "\n",
    "2. [`pandas.DataFrame.mean`](https://pandas.pydata.org/pandas-docs/stable/reference/api/pandas.DataFrame.mean.html), which calculates the mean or average of what we pass it.\n",
    "\n",
    "In combination, those two calculate the moving average."
   ]
  },
  {
   "cell_type": "markdown",
   "metadata": {
    "id": "F66YKg6Kxnuy"
   },
   "source": [
    "```python\n",
    "# Seasonally adjust data\n",
    "mydata = mydata.rolling(4).mean()\n",
    "mydata\n",
    "```"
   ]
  },
  {
   "cell_type": "markdown",
   "metadata": {
    "id": "afHI0wMDxnuy"
   },
   "source": [
    "Now we want to plot the Unemployment Rates of different countries against each other to see how they compare. We use some more functionalities of `Matplotlib` here.\n",
    "\n",
    "* `figsize(width, height)`, this defines the size of the figure in inches.\n",
    "* Set the limits of the axes. This simply makes the plot look more tidy because there's no excess space at the ends of the axes we don't need."
   ]
  },
  {
   "cell_type": "markdown",
   "metadata": {
    "id": "cEVOicwZxnuz"
   },
   "source": [
    "```python\n",
    "# Modifies the defult size of plots [13.0,6.0] inches\n",
    "matplotlib.rcParams['figure.figsize'] = [13.0,6.0]\n",
    "#mydata['Germany'].plot(legend=True)\n",
    "mydata['Sweden'].plot(legend=True) # Legend = True display the name of the country on the graph. \n",
    "mydata['Finland'].plot(legend=True)\n",
    "mydata['Switzerland'].plot(legend=True)\n",
    "mydata['Macedonia'].plot(legend=True)\n",
    "\n",
    "\n",
    "plt.ylim(0,35)  # the y axis ranges from 0 to 35\n",
    "plt.xlim(\"2011Q1\",\"2017Q4\")\n",
    "plt.ylabel('Unemployment Rate (%)', size = 14) # Name x axis\n",
    "plt.xlabel('Quaterly Frenquency', size = 14) # Name y axis\n",
    "plt.title('Unemployment rate in Percent for different countries', weight = 'bold', size = 20)\n",
    "plt.show()\n",
    "```"
   ]
  },
  {
   "cell_type": "markdown",
   "metadata": {
    "id": "mTJVR5Hrxnuz"
   },
   "source": [
    "# Transition Rates of the Labor Market"
   ]
  },
  {
   "cell_type": "markdown",
   "metadata": {
    "id": "R_mRFxuwxnuz"
   },
   "source": [
    "Another type of data useful to provide us with insight concerning the European Labor Market is the transitions rates. They tell us how fast or how likely an individual move from a category to another. There are 9 different transitions formed by the 3 states a person can be in : 'U' for unemployed, 'E' for employed, and 'N' for out of the labor force. Therefore we can explicit all the different transitions from a period to another (t to t+1) by a matrix 3x3:\n",
    "\n",
    "|*Today/tomorrrow*|E|U|N|\n",
    "|:-----:|:--:|:--:|:--:|\n",
    "|**E**|EE|EU|EN|\n",
    "|**U**|UE|UU|UN|\n",
    "|**N**|NE|NU|NN|\n",
    "\n",
    "We can then analyse different indicators such as the EU + EN -> Job Destruction rate & UE + NE -> Job finding rate.\n",
    "\n",
    "Nevertheless, it is important to mention that we calculate transition rates and not exactly the probability to move from 1 state to another because of the following reasons. The way data is collected tells us how many people move across states **for a given period** and with those data we can compute the transitions rates. For example the UE transition rate (let's call the variable *rate_UE*) tells us the proportion of unemployed people that went from unemployment to employment during a given period. To calculate it, we divide the number of people that transitioned from the initial state to the target state by the number of people in the initial state and. This yields our variable *rate_UE*.\n",
    "\n",
    "Many transitions can happen at any time between the person is surveyed the 1st time and the second. The current data only measure the transition from point a to point b but not what happens in between. Since Eurostat does not register data in continuous but in a discret manner and changes happen in continuous, the transition rates are only an approximative of the probability to move from 1 state to another. Plus, since those rates should approximate probabilities, they can not be negative or greater than 1.\n",
    "\n",
    "## The `exec()` function\n",
    "Before we continue, we will briefly introduce the [`exec()`](https://docs.python.org/3/library/functions.html#exec) function.\n",
    "\n",
    "The exec() function was designed to run a python programme submitted as parameter. The code execution happens dynamically and is applicable to strings or object codes. In our case that makes it very useful for saving files or DataFrames with different names.\n",
    "\n",
    "The two important parts are:\n",
    "1. The `{}` brackets: They specify at which part of the string something from the `.format()` section should be put in.\n",
    "2. The `.format()` section: It specifies what should be put into the `{}` when the exec function is called.\n",
    "\n",
    "In our case, in each iteration the first `{}` takes the key of the dictionary and the second `{}` takes the corresponding value."
   ]
  },
  {
   "cell_type": "code",
   "execution_count": 38,
   "metadata": {
    "colab": {
     "base_uri": "https://localhost:8080/"
    },
    "executionInfo": {
     "elapsed": 521,
     "status": "ok",
     "timestamp": 1614425592806,
     "user": {
      "displayName": "Gianluca Vanacore",
      "photoUrl": "",
      "userId": "06404241270689432270"
     },
     "user_tz": -60
    },
    "id": "V2cBFFjrxnuz",
    "outputId": "71b1c31f-615f-4698-aa46-fcda777ac83a"
   },
   "outputs": [
    {
     "name": "stdout",
     "output_type": "stream",
     "text": [
      "One kilogram of Apple costs 2€\n",
      "One kilogram of Cherry costs 10€\n",
      "One kilogram of Peach costs 6€\n",
      "One kilogram of Banana costs 4€\n"
     ]
    }
   ],
   "source": [
    "example_dictionary = {\"Apple\" : \"2€\", \"Cherry\": \"10€\", \"Peach\": \"6€\", \"Banana\": \"4€\"}\n",
    "\n",
    "# Using the exec-function, we can easily print out a \"Pricelist\" made up from the keys and values of a dictionary\n",
    "for key in example_dictionary:\n",
    "    exec(\"print('One kilogram of {} costs {}')\".format(key, example_dictionary[key]))\n"
   ]
  },
  {
   "cell_type": "markdown",
   "metadata": {
    "id": "z7_o8h86xnuz"
   },
   "source": [
    "## Load all the excel files containing the absolute data about persons moving between states"
   ]
  },
  {
   "cell_type": "code",
   "execution_count": 39,
   "metadata": {
    "colab": {
     "base_uri": "https://localhost:8080/",
     "height": 368
    },
    "executionInfo": {
     "elapsed": 556,
     "status": "error",
     "timestamp": 1614425595540,
     "user": {
      "displayName": "Gianluca Vanacore",
      "photoUrl": "",
      "userId": "06404241270689432270"
     },
     "user_tz": -60
    },
    "id": "LLWElTR-xnuz",
    "outputId": "594b5b92-b946-4b07-97de-2b91f04e0978"
   },
   "outputs": [
    {
     "ename": "FileNotFoundError",
     "evalue": "ignored",
     "output_type": "error",
     "traceback": [
      "\u001b[0;31m---------------------------------------------------------------------------\u001b[0m",
      "\u001b[0;31mFileNotFoundError\u001b[0m                         Traceback (most recent call last)",
      "\u001b[0;32m<ipython-input-39-9c32069d7180>\u001b[0m in \u001b[0;36m<module>\u001b[0;34m()\u001b[0m\n\u001b[1;32m     13\u001b[0m         \u001b[0;31m# Load xls with data and flags\u001b[0m\u001b[0;34m\u001b[0m\u001b[0;34m\u001b[0m\u001b[0;34m\u001b[0m\u001b[0m\n\u001b[1;32m     14\u001b[0m         \u001b[0maux_name\u001b[0m \u001b[0;34m=\u001b[0m \u001b[0mmyfolder\u001b[0m \u001b[0;34m+\u001b[0m \u001b[0mfile_name\u001b[0m\u001b[0;34m\u001b[0m\u001b[0;34m\u001b[0m\u001b[0m\n\u001b[0;32m---> 15\u001b[0;31m         \u001b[0maux_data\u001b[0m \u001b[0;34m=\u001b[0m \u001b[0mpd\u001b[0m\u001b[0;34m.\u001b[0m\u001b[0mread_excel\u001b[0m\u001b[0;34m(\u001b[0m\u001b[0maux_name\u001b[0m\u001b[0;34m,\u001b[0m \u001b[0mskiprows\u001b[0m\u001b[0;34m=\u001b[0m\u001b[0;36m11\u001b[0m\u001b[0;34m,\u001b[0m \u001b[0mindex_col\u001b[0m\u001b[0;34m=\u001b[0m\u001b[0;36m0\u001b[0m\u001b[0;34m,\u001b[0m \u001b[0msheet_name\u001b[0m\u001b[0;34m=\u001b[0m\u001b[0;34m'Data'\u001b[0m\u001b[0;34m)\u001b[0m\u001b[0;34m\u001b[0m\u001b[0;34m\u001b[0m\u001b[0m\n\u001b[0m\u001b[1;32m     16\u001b[0m         \u001b[0maux_data\u001b[0m \u001b[0;34m=\u001b[0m \u001b[0maux_data\u001b[0m\u001b[0;34m.\u001b[0m\u001b[0mreplace\u001b[0m\u001b[0;34m(\u001b[0m\u001b[0;34m':'\u001b[0m\u001b[0;34m,\u001b[0m \u001b[0mnp\u001b[0m\u001b[0;34m.\u001b[0m\u001b[0mNaN\u001b[0m\u001b[0;34m)\u001b[0m\u001b[0;34m\u001b[0m\u001b[0;34m\u001b[0m\u001b[0m\n\u001b[1;32m     17\u001b[0m         aux_flags = pd.read_excel(aux_name, skiprows=11, index_col=0, nrows=aux_data.shape[0],\n",
      "\u001b[0;32m/usr/local/lib/python3.7/dist-packages/pandas/util/_decorators.py\u001b[0m in \u001b[0;36mwrapper\u001b[0;34m(*args, **kwargs)\u001b[0m\n\u001b[1;32m    294\u001b[0m                 )\n\u001b[1;32m    295\u001b[0m                 \u001b[0mwarnings\u001b[0m\u001b[0;34m.\u001b[0m\u001b[0mwarn\u001b[0m\u001b[0;34m(\u001b[0m\u001b[0mmsg\u001b[0m\u001b[0;34m,\u001b[0m \u001b[0mFutureWarning\u001b[0m\u001b[0;34m,\u001b[0m \u001b[0mstacklevel\u001b[0m\u001b[0;34m=\u001b[0m\u001b[0mstacklevel\u001b[0m\u001b[0;34m)\u001b[0m\u001b[0;34m\u001b[0m\u001b[0;34m\u001b[0m\u001b[0m\n\u001b[0;32m--> 296\u001b[0;31m             \u001b[0;32mreturn\u001b[0m \u001b[0mfunc\u001b[0m\u001b[0;34m(\u001b[0m\u001b[0;34m*\u001b[0m\u001b[0margs\u001b[0m\u001b[0;34m,\u001b[0m \u001b[0;34m**\u001b[0m\u001b[0mkwargs\u001b[0m\u001b[0;34m)\u001b[0m\u001b[0;34m\u001b[0m\u001b[0;34m\u001b[0m\u001b[0m\n\u001b[0m\u001b[1;32m    297\u001b[0m \u001b[0;34m\u001b[0m\u001b[0m\n\u001b[1;32m    298\u001b[0m         \u001b[0;32mreturn\u001b[0m \u001b[0mwrapper\u001b[0m\u001b[0;34m\u001b[0m\u001b[0;34m\u001b[0m\u001b[0m\n",
      "\u001b[0;32m/usr/local/lib/python3.7/dist-packages/pandas/io/excel/_base.py\u001b[0m in \u001b[0;36mread_excel\u001b[0;34m(io, sheet_name, header, names, index_col, usecols, squeeze, dtype, engine, converters, true_values, false_values, skiprows, nrows, na_values, keep_default_na, na_filter, verbose, parse_dates, date_parser, thousands, comment, skipfooter, convert_float, mangle_dupe_cols)\u001b[0m\n\u001b[1;32m    302\u001b[0m \u001b[0;34m\u001b[0m\u001b[0m\n\u001b[1;32m    303\u001b[0m     \u001b[0;32mif\u001b[0m \u001b[0;32mnot\u001b[0m \u001b[0misinstance\u001b[0m\u001b[0;34m(\u001b[0m\u001b[0mio\u001b[0m\u001b[0;34m,\u001b[0m \u001b[0mExcelFile\u001b[0m\u001b[0;34m)\u001b[0m\u001b[0;34m:\u001b[0m\u001b[0;34m\u001b[0m\u001b[0;34m\u001b[0m\u001b[0m\n\u001b[0;32m--> 304\u001b[0;31m         \u001b[0mio\u001b[0m \u001b[0;34m=\u001b[0m \u001b[0mExcelFile\u001b[0m\u001b[0;34m(\u001b[0m\u001b[0mio\u001b[0m\u001b[0;34m,\u001b[0m \u001b[0mengine\u001b[0m\u001b[0;34m=\u001b[0m\u001b[0mengine\u001b[0m\u001b[0;34m)\u001b[0m\u001b[0;34m\u001b[0m\u001b[0;34m\u001b[0m\u001b[0m\n\u001b[0m\u001b[1;32m    305\u001b[0m     \u001b[0;32melif\u001b[0m \u001b[0mengine\u001b[0m \u001b[0;32mand\u001b[0m \u001b[0mengine\u001b[0m \u001b[0;34m!=\u001b[0m \u001b[0mio\u001b[0m\u001b[0;34m.\u001b[0m\u001b[0mengine\u001b[0m\u001b[0;34m:\u001b[0m\u001b[0;34m\u001b[0m\u001b[0;34m\u001b[0m\u001b[0m\n\u001b[1;32m    306\u001b[0m         raise ValueError(\n",
      "\u001b[0;32m/usr/local/lib/python3.7/dist-packages/pandas/io/excel/_base.py\u001b[0m in \u001b[0;36m__init__\u001b[0;34m(self, path_or_buffer, engine)\u001b[0m\n\u001b[1;32m    865\u001b[0m         \u001b[0mself\u001b[0m\u001b[0;34m.\u001b[0m\u001b[0m_io\u001b[0m \u001b[0;34m=\u001b[0m \u001b[0mstringify_path\u001b[0m\u001b[0;34m(\u001b[0m\u001b[0mpath_or_buffer\u001b[0m\u001b[0;34m)\u001b[0m\u001b[0;34m\u001b[0m\u001b[0;34m\u001b[0m\u001b[0m\n\u001b[1;32m    866\u001b[0m \u001b[0;34m\u001b[0m\u001b[0m\n\u001b[0;32m--> 867\u001b[0;31m         \u001b[0mself\u001b[0m\u001b[0;34m.\u001b[0m\u001b[0m_reader\u001b[0m \u001b[0;34m=\u001b[0m \u001b[0mself\u001b[0m\u001b[0;34m.\u001b[0m\u001b[0m_engines\u001b[0m\u001b[0;34m[\u001b[0m\u001b[0mengine\u001b[0m\u001b[0;34m]\u001b[0m\u001b[0;34m(\u001b[0m\u001b[0mself\u001b[0m\u001b[0;34m.\u001b[0m\u001b[0m_io\u001b[0m\u001b[0;34m)\u001b[0m\u001b[0;34m\u001b[0m\u001b[0;34m\u001b[0m\u001b[0m\n\u001b[0m\u001b[1;32m    868\u001b[0m \u001b[0;34m\u001b[0m\u001b[0m\n\u001b[1;32m    869\u001b[0m     \u001b[0;32mdef\u001b[0m \u001b[0m__fspath__\u001b[0m\u001b[0;34m(\u001b[0m\u001b[0mself\u001b[0m\u001b[0;34m)\u001b[0m\u001b[0;34m:\u001b[0m\u001b[0;34m\u001b[0m\u001b[0;34m\u001b[0m\u001b[0m\n",
      "\u001b[0;32m/usr/local/lib/python3.7/dist-packages/pandas/io/excel/_xlrd.py\u001b[0m in \u001b[0;36m__init__\u001b[0;34m(self, filepath_or_buffer)\u001b[0m\n\u001b[1;32m     20\u001b[0m         \u001b[0merr_msg\u001b[0m \u001b[0;34m=\u001b[0m \u001b[0;34m\"Install xlrd >= 1.0.0 for Excel support\"\u001b[0m\u001b[0;34m\u001b[0m\u001b[0;34m\u001b[0m\u001b[0m\n\u001b[1;32m     21\u001b[0m         \u001b[0mimport_optional_dependency\u001b[0m\u001b[0;34m(\u001b[0m\u001b[0;34m\"xlrd\"\u001b[0m\u001b[0;34m,\u001b[0m \u001b[0mextra\u001b[0m\u001b[0;34m=\u001b[0m\u001b[0merr_msg\u001b[0m\u001b[0;34m)\u001b[0m\u001b[0;34m\u001b[0m\u001b[0;34m\u001b[0m\u001b[0m\n\u001b[0;32m---> 22\u001b[0;31m         \u001b[0msuper\u001b[0m\u001b[0;34m(\u001b[0m\u001b[0;34m)\u001b[0m\u001b[0;34m.\u001b[0m\u001b[0m__init__\u001b[0m\u001b[0;34m(\u001b[0m\u001b[0mfilepath_or_buffer\u001b[0m\u001b[0;34m)\u001b[0m\u001b[0;34m\u001b[0m\u001b[0;34m\u001b[0m\u001b[0m\n\u001b[0m\u001b[1;32m     23\u001b[0m \u001b[0;34m\u001b[0m\u001b[0m\n\u001b[1;32m     24\u001b[0m     \u001b[0;34m@\u001b[0m\u001b[0mproperty\u001b[0m\u001b[0;34m\u001b[0m\u001b[0;34m\u001b[0m\u001b[0m\n",
      "\u001b[0;32m/usr/local/lib/python3.7/dist-packages/pandas/io/excel/_base.py\u001b[0m in \u001b[0;36m__init__\u001b[0;34m(self, filepath_or_buffer)\u001b[0m\n\u001b[1;32m    351\u001b[0m             \u001b[0mself\u001b[0m\u001b[0;34m.\u001b[0m\u001b[0mbook\u001b[0m \u001b[0;34m=\u001b[0m \u001b[0mself\u001b[0m\u001b[0;34m.\u001b[0m\u001b[0mload_workbook\u001b[0m\u001b[0;34m(\u001b[0m\u001b[0mfilepath_or_buffer\u001b[0m\u001b[0;34m)\u001b[0m\u001b[0;34m\u001b[0m\u001b[0;34m\u001b[0m\u001b[0m\n\u001b[1;32m    352\u001b[0m         \u001b[0;32melif\u001b[0m \u001b[0misinstance\u001b[0m\u001b[0;34m(\u001b[0m\u001b[0mfilepath_or_buffer\u001b[0m\u001b[0;34m,\u001b[0m \u001b[0mstr\u001b[0m\u001b[0;34m)\u001b[0m\u001b[0;34m:\u001b[0m\u001b[0;34m\u001b[0m\u001b[0;34m\u001b[0m\u001b[0m\n\u001b[0;32m--> 353\u001b[0;31m             \u001b[0mself\u001b[0m\u001b[0;34m.\u001b[0m\u001b[0mbook\u001b[0m \u001b[0;34m=\u001b[0m \u001b[0mself\u001b[0m\u001b[0;34m.\u001b[0m\u001b[0mload_workbook\u001b[0m\u001b[0;34m(\u001b[0m\u001b[0mfilepath_or_buffer\u001b[0m\u001b[0;34m)\u001b[0m\u001b[0;34m\u001b[0m\u001b[0;34m\u001b[0m\u001b[0m\n\u001b[0m\u001b[1;32m    354\u001b[0m         \u001b[0;32melif\u001b[0m \u001b[0misinstance\u001b[0m\u001b[0;34m(\u001b[0m\u001b[0mfilepath_or_buffer\u001b[0m\u001b[0;34m,\u001b[0m \u001b[0mbytes\u001b[0m\u001b[0;34m)\u001b[0m\u001b[0;34m:\u001b[0m\u001b[0;34m\u001b[0m\u001b[0;34m\u001b[0m\u001b[0m\n\u001b[1;32m    355\u001b[0m             \u001b[0mself\u001b[0m\u001b[0;34m.\u001b[0m\u001b[0mbook\u001b[0m \u001b[0;34m=\u001b[0m \u001b[0mself\u001b[0m\u001b[0;34m.\u001b[0m\u001b[0mload_workbook\u001b[0m\u001b[0;34m(\u001b[0m\u001b[0mBytesIO\u001b[0m\u001b[0;34m(\u001b[0m\u001b[0mfilepath_or_buffer\u001b[0m\u001b[0;34m)\u001b[0m\u001b[0;34m)\u001b[0m\u001b[0;34m\u001b[0m\u001b[0;34m\u001b[0m\u001b[0m\n",
      "\u001b[0;32m/usr/local/lib/python3.7/dist-packages/pandas/io/excel/_xlrd.py\u001b[0m in \u001b[0;36mload_workbook\u001b[0;34m(self, filepath_or_buffer)\u001b[0m\n\u001b[1;32m     35\u001b[0m             \u001b[0;32mreturn\u001b[0m \u001b[0mopen_workbook\u001b[0m\u001b[0;34m(\u001b[0m\u001b[0mfile_contents\u001b[0m\u001b[0;34m=\u001b[0m\u001b[0mdata\u001b[0m\u001b[0;34m)\u001b[0m\u001b[0;34m\u001b[0m\u001b[0;34m\u001b[0m\u001b[0m\n\u001b[1;32m     36\u001b[0m         \u001b[0;32melse\u001b[0m\u001b[0;34m:\u001b[0m\u001b[0;34m\u001b[0m\u001b[0;34m\u001b[0m\u001b[0m\n\u001b[0;32m---> 37\u001b[0;31m             \u001b[0;32mreturn\u001b[0m \u001b[0mopen_workbook\u001b[0m\u001b[0;34m(\u001b[0m\u001b[0mfilepath_or_buffer\u001b[0m\u001b[0;34m)\u001b[0m\u001b[0;34m\u001b[0m\u001b[0;34m\u001b[0m\u001b[0m\n\u001b[0m\u001b[1;32m     38\u001b[0m \u001b[0;34m\u001b[0m\u001b[0m\n\u001b[1;32m     39\u001b[0m     \u001b[0;34m@\u001b[0m\u001b[0mproperty\u001b[0m\u001b[0;34m\u001b[0m\u001b[0;34m\u001b[0m\u001b[0m\n",
      "\u001b[0;32m/usr/local/lib/python3.7/dist-packages/xlrd/__init__.py\u001b[0m in \u001b[0;36mopen_workbook\u001b[0;34m(filename, logfile, verbosity, use_mmap, file_contents, encoding_override, formatting_info, on_demand, ragged_rows)\u001b[0m\n\u001b[1;32m    114\u001b[0m         \u001b[0mpeek\u001b[0m \u001b[0;34m=\u001b[0m \u001b[0mfile_contents\u001b[0m\u001b[0;34m[\u001b[0m\u001b[0;34m:\u001b[0m\u001b[0mpeeksz\u001b[0m\u001b[0;34m]\u001b[0m\u001b[0;34m\u001b[0m\u001b[0;34m\u001b[0m\u001b[0m\n\u001b[1;32m    115\u001b[0m     \u001b[0;32melse\u001b[0m\u001b[0;34m:\u001b[0m\u001b[0;34m\u001b[0m\u001b[0;34m\u001b[0m\u001b[0m\n\u001b[0;32m--> 116\u001b[0;31m         \u001b[0;32mwith\u001b[0m \u001b[0mopen\u001b[0m\u001b[0;34m(\u001b[0m\u001b[0mfilename\u001b[0m\u001b[0;34m,\u001b[0m \u001b[0;34m\"rb\"\u001b[0m\u001b[0;34m)\u001b[0m \u001b[0;32mas\u001b[0m \u001b[0mf\u001b[0m\u001b[0;34m:\u001b[0m\u001b[0;34m\u001b[0m\u001b[0;34m\u001b[0m\u001b[0m\n\u001b[0m\u001b[1;32m    117\u001b[0m             \u001b[0mpeek\u001b[0m \u001b[0;34m=\u001b[0m \u001b[0mf\u001b[0m\u001b[0;34m.\u001b[0m\u001b[0mread\u001b[0m\u001b[0;34m(\u001b[0m\u001b[0mpeeksz\u001b[0m\u001b[0;34m)\u001b[0m\u001b[0;34m\u001b[0m\u001b[0;34m\u001b[0m\u001b[0m\n\u001b[1;32m    118\u001b[0m     \u001b[0;32mif\u001b[0m \u001b[0mpeek\u001b[0m \u001b[0;34m==\u001b[0m \u001b[0;34mb\"PK\\x03\\x04\"\u001b[0m\u001b[0;34m:\u001b[0m \u001b[0;31m# a ZIP file\u001b[0m\u001b[0;34m\u001b[0m\u001b[0;34m\u001b[0m\u001b[0m\n",
      "\u001b[0;31mFileNotFoundError\u001b[0m: [Errno 2] No such file or directory: 'sample_data/Male/lfsi_long_q_EE.xls'"
     ]
    }
   ],
   "source": [
    "states = ['E', 'U', 'N']\n",
    "transitions = [] # We set an empty list that will be filled with the 9 transitions\n",
    "\n",
    "for today in states:\n",
    "\n",
    "    for tomorrow in states:\n",
    "\n",
    "        # Create a frame name\n",
    "        frame_name = today + tomorrow\n",
    "        transitions.append(frame_name)\n",
    "        file_name = 'lfsi_long_q_' + frame_name + '.xls'\n",
    "\n",
    "        # Load xls with data and flags\n",
    "        aux_name = myfolder + file_name\n",
    "        aux_data = pd.read_excel(aux_name, skiprows=11, index_col=0, sheet_name='Data')\n",
    "        aux_data = aux_data.replace(':', np.NaN)\n",
    "        aux_flags = pd.read_excel(aux_name, skiprows=11, index_col=0, nrows=aux_data.shape[0],\n",
    "                                  sheet_name='Flags and Footnotes')\n",
    "\n",
    "        # Transpose data and flags\n",
    "        aux_data = aux_data.T\n",
    "        aux_flags = aux_flags.T\n",
    "\n",
    "        # Change the name of Macedonia\n",
    "        aux_data = aux_data.rename(columns = {'Former Yugoslav Republic of Macedonia, the':'Macedonia'})\n",
    "\n",
    "        # Update the name of the columns list\n",
    "        aux_data.columns.name = 'Countries'\n",
    "\n",
    "        # Convert data flags into NaNs\n",
    "        aux_values = flags_to_NaN(aux_data.values, aux_flags.values)\n",
    "        mydata_transitions = pd.DataFrame(aux_values)\n",
    "\n",
    "        # Set proper period index\n",
    "        mydata_transitions.index = dates\n",
    "\n",
    "        # Set proper column names\n",
    "        mydata_transitions.columns = aux_data.columns\n",
    "\n",
    "        # Set an appropiate name to the DataFrame\n",
    "        mydata_transitions.name = frame_name + ' Transitions'\n",
    "\n",
    "        # Save DataFrame with proper name\n",
    "        exec('{} = mydata_transitions'.format(frame_name))"
   ]
  },
  {
   "cell_type": "markdown",
   "metadata": {
    "id": "ljt_bekRxnu0"
   },
   "source": [
    "## Compute transition rates\n",
    "To compute the transitions rate we need to iterate over all the possible combinations of `['E','U','N']` and check that all the computed rates are in the [0,1] interval. In order to do the later, we can define a function that uses `DataFrame.min()` and `DataFrame.max()`. The function warns us if a value in the rows or column of the Dataframe is smaller than 0 or bigger than 1 since they represent probabilities. . max().max() will look at the maximum of the rows and maximum of the columns and similarily for min().min(). We don't have to check every single value because if the maximum and minimum values fulfill this criterium, the rest of the values will be okay, if not, we have to check the whole code anyway."
   ]
  },
  {
   "cell_type": "code",
   "execution_count": null,
   "metadata": {
    "executionInfo": {
     "elapsed": 30544,
     "status": "aborted",
     "timestamp": 1614425513771,
     "user": {
      "displayName": "Gianluca Vanacore",
      "photoUrl": "",
      "userId": "06404241270689432270"
     },
     "user_tz": -60
    },
    "id": "MR9nK8fPxnu0"
   },
   "outputs": [],
   "source": [
    "# 1. Maybe we can implement here exception handling?\n",
    "# Reason: Error handling allows to decide if we want our code to be interrupted\n",
    "# 2. We can indicate the user where there is an error e.g. \"Value bigger/smaller than one/zero in cell ...\"\n",
    "\n",
    "def check_rates(data):\n",
    "    if data.max().max() > 1: # If the max value of the data >1\n",
    "        print(\"ATENTION: In \" + data.name + \"at least one value bigger than 1\")\n",
    "    if data.min().min() < 0: # If the mmin ax value of the data <0\n",
    "        print(\"ATENTION: In \" + data.name + \"at least one value smaller than 0\")"
   ]
  },
  {
   "cell_type": "markdown",
   "metadata": {
    "id": "0Y3UcF9Lxnu0"
   },
   "source": [
    "The excel file names containing the data regarding the transition rates have very similar names except that they differ at the end. They end by the respective transition rate (\"EE\" or \"UE\"). The list created above containing the 9 transitions helps us to find fast way to go through all the excel files."
   ]
  },
  {
   "cell_type": "code",
   "execution_count": null,
   "metadata": {
    "executionInfo": {
     "elapsed": 30541,
     "status": "aborted",
     "timestamp": 1614425513771,
     "user": {
      "displayName": "Gianluca Vanacore",
      "photoUrl": "",
      "userId": "06404241270689432270"
     },
     "user_tz": -60
    },
    "id": "Qs8RXEqoxnu0"
   },
   "outputs": [],
   "source": [
    "transition_rates = []\n",
    "\n",
    "for today in states:\n",
    "    # Define E, U, and N stocks in the current period\n",
    "        exec(today + ' = ' + today+'E + ' + today+'U + ' + today+'N')\n",
    "\n",
    "        for tomorrow in states:\n",
    "            frame_name = 'rate_'+today+tomorrow\n",
    "            transition_rates.append(frame_name)\n",
    "\n",
    "            # Create an auxiliary data set with all the transition rates (easier to use .name)\n",
    "            # E.g UE/E: number of people that go from unemployment to employment/number of people employed\n",
    "            exec('aux_data = {}{}/{}'.format(today,tomorrow,today))\n",
    "            # Set an appropiate name to the DataFrame\n",
    "            aux_name = '{}{} Transitions rates'.format(today,tomorrow)\n",
    "            aux_data.name = aux_name\n",
    "\n",
    "            # Check values\n",
    "            check_rates(aux_data)\n",
    "\n",
    "            # Save DataFrame with proper name\n",
    "            exec(frame_name + ' = aux_data')"
   ]
  },
  {
   "cell_type": "markdown",
   "metadata": {
    "id": "dnY-QlzTxnu0"
   },
   "source": [
    "To see the results, we will plot some of our computed rates using `Matplotlib`. Its important to include the `sex` variable along with the data displayed in the title so there are no misunderstandings."
   ]
  },
  {
   "cell_type": "code",
   "execution_count": null,
   "metadata": {
    "executionInfo": {
     "elapsed": 30540,
     "status": "aborted",
     "timestamp": 1614425513772,
     "user": {
      "displayName": "Gianluca Vanacore",
      "photoUrl": "",
      "userId": "06404241270689432270"
     },
     "user_tz": -60
    },
    "id": "MIzgFyOqxnu0"
   },
   "outputs": [],
   "source": [
    "#import matplotlib.pyplot as plt\n",
    "\n",
    "rate_UE.mean().sort_values(ascending=False).plot.bar(color='b', figsize=(14,7))\n",
    "\n",
    "plt.title(\"Average UE Rates ({}), 2010Q2-2017Q4\".format(sex))\n",
    "plt.xlabel('Countries')\n",
    "plt.show()"
   ]
  },
  {
   "cell_type": "markdown",
   "metadata": {
    "id": "Jomxg3CIxnu1"
   },
   "source": [
    "If we want to make our plot look a little fancier we can again use the broad functionality of `Matplotlib`\n",
    "- To have some variety, we use a different style than before *fivethirtyeight*.\n",
    "- We specify the plot to be a barplot and then decide on the labels for the individual bars."
   ]
  },
  {
   "cell_type": "code",
   "execution_count": null,
   "metadata": {
    "executionInfo": {
     "elapsed": 30538,
     "status": "aborted",
     "timestamp": 1614425513772,
     "user": {
      "displayName": "Gianluca Vanacore",
      "photoUrl": "",
      "userId": "06404241270689432270"
     },
     "user_tz": -60
    },
    "id": "b67JkTYAxnu1"
   },
   "outputs": [],
   "source": [
    "#import matplotlib\n",
    "\n",
    "matplotlib.style.use('fivethirtyeight') # to see all style available do: print(plt.style.available)\n",
    "# Display the mean of each country's unemployment rate between Q2 2010 and Q4 2017\n",
    "# sort_values(ascending = False) the values are displayed from the highest to the lowest\n",
    "ax = rate_UE.mean().sort_values(ascending=False).plot(kind='bar', figsize=(14,7), fontsize = 14, width=0.75)\n",
    "plt.title(\"Average UE Rates ({}), 2010Q2-2017Q4\".format(sex), fontsize=25)\n",
    "plt.xlabel('') # set x label as an empty string for stylistic reason\n",
    "\n",
    "# set individual bar lables\n",
    "for p in ax.patches:\n",
    "    ax.annotate(str(round(p.get_height(),2)), # 2 is number of decimals after the comma displayed.\n",
    "                (p.get_x()+p.get_width()/2., p.get_height()-0.025), # set the location where to display the average UE rate\n",
    "                ha='center', va='center', xytext=(0, 10), # center the text.\n",
    "                textcoords='offset points',\n",
    "                rotation=90) # rotate the number by 90°\n",
    "\n",
    "plt.show()"
   ]
  },
  {
   "cell_type": "markdown",
   "metadata": {
    "id": "V7F8laT5xnu1"
   },
   "source": [
    "## Export all the created DataFrames to `.xlsx` files\n",
    "`pandas` offers built-in functionality to simplify this task. See:\n",
    "- [`pandas.DataFrame.to_excel`](https://pandas.pydata.org/pandas-docs/stable/generated/pandas.DataFrame.to_excel.html).\n",
    "- [Working with Python Pandas and XlsxWriter](https://xlsxwriter.readthedocs.io/working_with_pandas.html).\n",
    "\n",
    "This will create an Excel file that contains the same columns and rows our DataFrame does. The obvious advantage of this method is that the file can  be read using Excel, while maintaining the option of importing it again in other notebooks. Pandas has a built-in functionality for this, called DataFrame.to_Excel. It works as follows:\n",
    "1. We loop over all possible transitions.\n",
    "2. We specify the name of the future Excel file.\n",
    "3. We specify what it should be created out of,\n",
    "4. We define the ExcelWriter.\n",
    "5. We convert the DataFrame to an Excel file and save it locally in the folder we specified above."
   ]
  },
  {
   "cell_type": "code",
   "execution_count": null,
   "metadata": {
    "executionInfo": {
     "elapsed": 30537,
     "status": "aborted",
     "timestamp": 1614425513773,
     "user": {
      "displayName": "Gianluca Vanacore",
      "photoUrl": "",
      "userId": "06404241270689432270"
     },
     "user_tz": -60
    },
    "id": "-0EOGKvKxnu1"
   },
   "outputs": [],
   "source": [
    "for rate in transition_rates:\n",
    "    # Define file name\n",
    "    file_name = '{}{}.xlsx'.format(myfolder,rate)\n",
    "\n",
    "    # Store DataFrame in aux_data\n",
    "    exec('aux_data = {}'.format(rate))\n",
    "\n",
    "    # Define Excel Writer\n",
    "    writer = pd.ExcelWriter(file_name)\n",
    "\n",
    "    # Convert DataFrame to Excel object.\n",
    "    aux_data.to_excel(writer, sheet_name='Data')\n",
    "    exec(\"{}.to_excel(writer, sheet_name='Data')\".format(rate))\n",
    "\n",
    "    # Close the Pandas Excel writer and output the Excel file\n",
    "    writer.save()"
   ]
  },
  {
   "cell_type": "markdown",
   "metadata": {
    "id": "fhI4voEMxnu1"
   },
   "source": [
    "# Steady State Unemployment Rates"
   ]
  },
  {
   "cell_type": "markdown",
   "metadata": {
    "id": "PzDmirW9xnu1"
   },
   "source": [
    "## Introduction to the Economic Side of Steady State Unemployment Rates"
   ]
  },
  {
   "cell_type": "markdown",
   "metadata": {
    "id": "9rq-bX_xww6c"
   },
   "source": [
    "The Steady-State unemployment rate is given by\n",
    "\n",
    "$$\\frac{s}{s+f}$$\n",
    "\n",
    "- $s$ represents the fraction of employed workers loosing their jobs and \n",
    "- $f$ represents the fraction of unemployed workers that find new jobs. \n",
    "\n",
    "A *steady state* in economics is the levels of independent variables in a model such that from one period to another, the dependent variable stays constant.\n",
    "\n",
    "Here, this means that the steady state unemployment rate, which is determined by s and f are at a level such that that the unemployment rate stays constant from period $t$ to period $t+1$.\n",
    "   \n",
    "Steady states have a large impact when studying growth theory and other economic models. If you assume that an economy and world converges on a steady state given certain factors, then it becomes interesting to evaluate how the current levels are in comparison to the steady state.\n",
    "\n",
    "This therefore calculated from setting the point where the same number of people lose and find a job in a period:\n",
    "$$sE=fU$$\n",
    "\n",
    "And solving for $$\\frac{U}{L}$$ the steady state unemployment rate\n",
    "\n",
    "In our case, these rates are represented by the transition rates. \n",
    "\n",
    "$s = {\\pi^{EN}\\pi^{NU}+\\pi^{NE}\\pi^{EU}+\\pi^{NU}\\pi^{EU}}$\n",
    "\n",
    "$f = {\\pi^{UN}\\pi^{NE}+\\pi^{NU}\\pi^{UE}+\\pi^{NE}\\pi^{UE}}$\n",
    "\n",
    "That means we can calculate $UR_{SS}$ as follows:\n",
    "\n",
    "$$UR_{SS} = \\frac{\\pi^{EN}\\pi^{NU}+\\pi^{NE}\\pi^{EU}+\\pi^{NU}\\pi^{EU}}{(\\pi^{UN}\\pi^{NE}+\\pi^{NU}\\pi^{UE}+\\pi^{NE}\\pi^{UE})+(\\pi^{EN}\\pi^{NU}+\\pi^{NE}\\pi^{EU}+\\pi^{NU}\\pi^{EU})}$$\n",
    "\n",
    "We can use a temporary data set, where we copy the DataFrame of the country we are dealing with, to simplify the code.\n",
    "\n",
    "To find out what the Steady State Unemployment Rate of a given Country is, visualize it and compare it to the  measured unemployment rate, we will: \n",
    "\n",
    "1. Import the measured unemployment rate from excel using pandas.\n",
    "2. Compute the Steady-State unemployment rate using the Transition rates from the previous section.\n",
    "3. Compare the measured unemployment rates with our model of Steady-State unemployment rates using different plots and statistical methods.\n",
    "\n",
    "We start off with the DataFrame *mydata_measured_unemployment* we created out of the cleaned unemployment data before. To continue computing the Steady State Unemployment Rates, we will use this DataFrame to create separate DataFrames for each of our countries.\n",
    "\n",
    "We do that by iterating over the countries in the column list of *mydata* and, at each iteration:\n",
    "- Create a new DataFrame for the column/country.\n",
    "- Set the the name of the column which contains the country's name to *measured unemployment rate* for the country to the country's name.\n",
    "- Change the countries' names that contain spaces.\n",
    "- Add the country to a list for future iterations.\n",
    "- Save *temp_data* as a new DataFrame with the name of the country.\n"
   ]
  },
  {
   "cell_type": "code",
   "execution_count": null,
   "metadata": {
    "executionInfo": {
     "elapsed": 30529,
     "status": "aborted",
     "timestamp": 1614425513773,
     "user": {
      "displayName": "Gianluca Vanacore",
      "photoUrl": "",
      "userId": "06404241270689432270"
     },
     "user_tz": -60
    },
    "id": "i0o3eI1TBlm0"
   },
   "outputs": [],
   "source": [
    "# This creates an empty list were we can store all the country names for future use\n",
    "countries = [] \n",
    "\n",
    "# Now we iterate over all the column names (the countries)\n",
    "for country in mydata.axes[1]:\n",
    "    \n",
    "    # Now we chose the relevant column in aux_data\n",
    "    temp_data = pd.DataFrame(data = mydata[country])\n",
    "    \n",
    "    # We rename the column which previously was the country name\n",
    "    temp_data = temp_data.rename(columns = {country:'Measured Unemployment Rate'})\n",
    "    \n",
    "    # Here we replace the spaces in every country name with underscore\n",
    "    country = country.replace(' ', '_')\n",
    "    \n",
    "    # Lastly, we store the country name in our \"countries\" list\n",
    "    countries.append(country)\n",
    "    \n",
    "    # Save each DataFrame with the corresponding country name\n",
    "    exec(\"{} = temp_data\".format(country)) \n"
   ]
  },
  {
   "cell_type": "markdown",
   "metadata": {
    "id": "2K16NL10DLUT"
   },
   "source": [
    "Next, we will *Merge* all the transition rates from our `.xlsx` files into the country DataFrame. From the previous step, we already have a `pandas.DataFrame` for each country with *measured* unemployment rate. Now we need to add the transition rates. To do so, we need to import the `.xlsx` files we created earlier that contain the transition rates and *merge* each column to the corresponding country's DataFrame. We also want to seasonally adjust the transition rates. Like previously, we use the [`DataFrame.rolling`](https://pandas.pydata.org/pandas-docs/stable/computation.html#rolling-windows) method for this task.We proceed as follows: \n",
    "1. Iterate over all the possible transitions, such as *EE*, *EU* or *UE*.\n",
    "2. Find the corresponding file on the local drive, one example of a file name would be *total/rate_EE.xlsx*.\n",
    "3. Create an auxiliary DataFrame with our `pd.period_range` \"dates\" as index.\n",
    "4. Seasonally adjust the data by taking the means.\n",
    "5. Iterate over the countries. Here, we can use the list *countries* we have created above so we don't have to replace the spaces in some countries names again."
   ]
  },
  {
   "cell_type": "code",
   "execution_count": null,
   "metadata": {
    "executionInfo": {
     "elapsed": 30522,
     "status": "aborted",
     "timestamp": 1614425513774,
     "user": {
      "displayName": "Gianluca Vanacore",
      "photoUrl": "",
      "userId": "06404241270689432270"
     },
     "user_tz": -60
    },
    "id": "9Qu_JmdSGZMf"
   },
   "outputs": [],
   "source": [
    "states = ['E', 'U', 'N']\n",
    "\n",
    "for today in states:\n",
    "    for tomorrow in states:\n",
    "        transition = today + tomorrow\n",
    "        file_name = \"{}rate_{}{}.xlsx\".format(myfolder,today,tomorrow)\n",
    "        \n",
    "        \n",
    "        # Load file in aux DataFrame\n",
    "        aux_frame = pd.read_excel(file_name, index_col=0)\n",
    "        aux_frame.index = dates\n",
    "        aux_frame\n",
    "\n",
    "        # Seasonally adjust data\n",
    "        aux_frame = aux_frame.rolling(4).mean()\n",
    "        \n",
    "        # Iterate over all countries \n",
    "        for country in aux_frame.axes[1]:\n",
    "            frame_name = country.replace(' ', '_') # Replace spaces in country name by underscore\n",
    "            #aux_series = aux_frame[country] \n",
    "            exec(\"{}['{}'] = aux_frame['{}']\".format(frame_name,transition,country))"
   ]
  },
  {
   "cell_type": "markdown",
   "metadata": {
    "id": "t_tf_bzCGhHE"
   },
   "source": [
    "\n",
    "## Compute Steady State Unemployment Rate for each country and period\n",
    "Using the equation for steady state unemployment rates above, we can compute the rate for each country and period. \n",
    "\n",
    "We can use a temporary dataset, where we copy the DataFrame of the country we are dealing with, to simplify the code. This temporary dataset is called *f* in our case, You can see that what is defined as $s$ and $f$ in the formula above corresponds to *aux_E* and *aux_U*."
   ]
  },
  {
   "cell_type": "code",
   "execution_count": null,
   "metadata": {
    "executionInfo": {
     "elapsed": 30520,
     "status": "aborted",
     "timestamp": 1614425513774,
     "user": {
      "displayName": "Gianluca Vanacore",
      "photoUrl": "",
      "userId": "06404241270689432270"
     },
     "user_tz": -60
    },
    "id": "hCam2OrUGtQC"
   },
   "outputs": [],
   "source": [
    "for country in countries:\n",
    "    # This simplifies the code simply by exchanging \"country\" with \"f\"\n",
    "    exec(\"f = {}\".format(country))\n",
    "\n",
    "    # Compute Steady State Unemployment Rate\n",
    "    aux_E = f['UN']*f['NE'] + f['NU']*f['UE'] + f['NE']*f['UE']\n",
    "    aux_U = f['EN']*f['NU'] + f['NE']*f['EU'] + f['NU']*f['EU']\n",
    "    f['Steady State Unemployment Rate'] = (aux_U/(aux_E+aux_U))*100\n",
    "    \n",
    "    # Save f with appropiate name\n",
    "    exec(\"{} = f\".format(country))"
   ]
  },
  {
   "cell_type": "markdown",
   "metadata": {
    "id": "J9XkN-qsxnu2"
   },
   "source": [
    "## Plot time series of *measured* Unemployment Rate and Steady State Unemployment Rate \n",
    "After having computed the Steady State Unemployment Rates we want to compare them to the measured data. \n",
    "\n",
    "We start by plotting the two different rates for one example country. \n",
    "- As an example, we use Sweden\n",
    "- The two `exec` functions read as follows\n",
    "    - `Sweden[Measured Unemployment Rate].plot(legend = True)`\n",
    "    - `Sweden[Steady State Unemployment Rate].plot(legend = True)`\n",
    "- While one might think that he could just write out the string, `exec` gives us the advantage of only having to change the variable *mycountry* if we want to plot the comparison for a different country"
   ]
  },
  {
   "cell_type": "code",
   "execution_count": null,
   "metadata": {
    "executionInfo": {
     "elapsed": 30518,
     "status": "aborted",
     "timestamp": 1614425513775,
     "user": {
      "displayName": "Gianluca Vanacore",
      "photoUrl": "",
      "userId": "06404241270689432270"
     },
     "user_tz": -60
    },
    "id": "UnjNRH3cHQG3"
   },
   "outputs": [],
   "source": [
    "mycountry = \"Sweden\"\n",
    "\n",
    "exec(\"{}['Measured Unemployment Rate'].plot(legend=True)\".format(mycountry))\n",
    "exec(\"{}['Steady State Unemployment Rate'].plot(legend=True)\".format(mycountry))\n",
    "\n",
    "plt.title(\"Measured vs. Steady State Unemployment Rate, {} ({})\".format(mycountry,sex), fontsize=14)\n",
    "\n",
    "plt.show()"
   ]
  },
  {
   "cell_type": "markdown",
   "metadata": {
    "id": "v79p0VPCHTcz"
   },
   "source": [
    "\n",
    "## New DataFrame with country averages \n",
    "We proceed as follows. In order to be able to study in which conditions our model of the labor market performs better, we can summarise all the relevant information in one `pandas.DataFrame`. To get the data in a compact format, we will calculate the means of each DataFrame using `.mean`. This function adds up all the quarterly values and divides it by the number of measurements (quarters). \n",
    "\n",
    "To create a DataFrame with the period means for all countries, the method [pandas.DataFrame.append](https://pandas.pydata.org/pandas-docs/stable/generated/pandas.DataFrame.append.html) might be useful.\n",
    "\n",
    "It lets us add the row containing the mean we calculate with the `exec` and then store in the transposed *aux_frame* to the end of \"Means\" - DataFrame we create in the first line."
   ]
  },
  {
   "cell_type": "code",
   "execution_count": null,
   "metadata": {
    "executionInfo": {
     "elapsed": 30516,
     "status": "aborted",
     "timestamp": 1614425513775,
     "user": {
      "displayName": "Gianluca Vanacore",
      "photoUrl": "",
      "userId": "06404241270689432270"
     },
     "user_tz": -60
    },
    "id": "DdpbDXFWC_XU"
   },
   "outputs": [],
   "source": [
    "# Create empty \"Means\" DataFrame\n",
    "Means = pd.DataFrame() \n",
    "\n",
    "# Iterate over countries\n",
    "for country in countries:\n",
    "    # Save DataFrame in aux_frame to make the code more readable\n",
    "    exec(\"aux_frame = pd.DataFrame({}.mean())\".format(country)) \n",
    "    # Transpose DataFrame\n",
    "    aux_frame = aux_frame.T \n",
    "    # Replace spaces\n",
    "    country = country.replace('_', ' ') # Replace underscores by spaces\n",
    "    # Set index to be the countries name\n",
    "    aux_frame.index = [country]\n",
    "    # Add row to \"Means\" - Dataframe\n",
    "    Means = Means.append(aux_frame)\n"
   ]
  },
  {
   "cell_type": "markdown",
   "metadata": {
    "id": "5_yae_2bDCtD"
   },
   "source": [
    "## Add country codes to the DataFrame\n",
    "For visualisation purposes, it is useful to add to the DataFrame the country code that identifies each country. For example, Switzerland is represented by *CH*. We can use the file `country_codes.xlsx` saved locally to create a dictionary that tells us what the appropiate code for each country is. Then we can use that dictionary to set the index previously containing *Switzerland* to *CH*. \n",
    "\n",
    "We proceed as follows: \n",
    "1. Create a `pandas.DataFrame` out of the excel file with the country codes.\n",
    "2. Create an empty dictionary w.\n",
    "\n"
   ]
  },
  {
   "cell_type": "code",
   "execution_count": null,
   "metadata": {
    "executionInfo": {
     "elapsed": 30515,
     "status": "aborted",
     "timestamp": 1614425513776,
     "user": {
      "displayName": "Gianluca Vanacore",
      "photoUrl": "",
      "userId": "06404241270689432270"
     },
     "user_tz": -60
    },
    "id": "xd6fsdqyILq-"
   },
   "outputs": [],
   "source": [
    "# Create DataFrame out of Excel file\n",
    "aux_codes = pd.read_excel(myfolder_gender_neutral + 'country_codes.xlsx')\n",
    "# Create empty dictionary\n",
    "country_code = {}"
   ]
  },
  {
   "cell_type": "markdown",
   "metadata": {
    "id": "wael5FQoIVJ3"
   },
   "source": [
    "3. Iterate over the rows of the DataFrame containing the codes and fill our dictionary \"country_code\" with: \n",
    "    - The country name as *Key*\n",
    "    - The country code as *Value* \n",
    "    - The `r.strip()` method removes all whitespaces at the end of the strings\n"
   ]
  },
  {
   "cell_type": "code",
   "execution_count": null,
   "metadata": {
    "executionInfo": {
     "elapsed": 30514,
     "status": "aborted",
     "timestamp": 1614425513776,
     "user": {
      "displayName": "Gianluca Vanacore",
      "photoUrl": "",
      "userId": "06404241270689432270"
     },
     "user_tz": -60
    },
    "id": "W0L4HIbvIZWO"
   },
   "outputs": [],
   "source": [
    "for index,row in aux_codes.iterrows(): # iterrows() Iterate over rows of DataFrame\n",
    "    code = row['Code'].rstrip() # removes the whitespaces\n",
    "    name = row['English'].rstrip()\n",
    "    country_code[name] = code\n",
    "\n",
    "    \n",
    "country_codes = pd.read_excel(myfolder_gender_neutral+'country_codes.xlsx')\n",
    "country_codes.columns = ['Code', 'Own language', 'English', 'French', 'German']\n",
    "# we transform the dataframe into a dictionary but we choose only the English names of the countries\n",
    "# to_dict() convert a data dataframe into a dictionnary \n",
    "dict = country_codes.set_index('English')['Code'].to_dict()\n",
    "\n",
    "#dict\n",
    "print(country_code)\n"
   ]
  },
  {
   "cell_type": "markdown",
   "metadata": {
    "id": "DwDedHm1IepX"
   },
   "source": [
    "4. Put the codes in the DataFrame\n",
    "      - Initiate an empty column in the DataFrame.\n",
    "      - Iterate over the rows and set the Code cell for the country in the loop to the corresponding code.\n"
   ]
  },
  {
   "cell_type": "code",
   "execution_count": null,
   "metadata": {
    "executionInfo": {
     "elapsed": 30514,
     "status": "aborted",
     "timestamp": 1614425513778,
     "user": {
      "displayName": "Gianluca Vanacore",
      "photoUrl": "",
      "userId": "06404241270689432270"
     },
     "user_tz": -60
    },
    "id": "57ZHu5n3IfbE"
   },
   "outputs": [],
   "source": [
    "Means['Code'] = ''\n",
    "for index,row in Means.iterrows():\n",
    "    Means.at[index,'Code'] = country_code[index]\n"
   ]
  },
  {
   "cell_type": "markdown",
   "metadata": {
    "id": "_NZfiS1FInT1"
   },
   "source": [
    "## Export DataFrame to a file\n",
    "To save the DataFrame *Means* for future use there are several methods, two of them being [pickle](https://docs.python.org/3/library/pickle.html) and [`pandas.DataFrame.to_excel`](https://pandas.pydata.org/pandas-docs/stable/generated/pandas.DataFrame.to_excel.html).\n",
    "\n",
    "### Pickle\n",
    "Basically, what Pickle does is to serialize python code. That means it converts the code in to a stream of characters that can be read and reconstructed later by another python skript. Then it saves this stream on the local drive.\n"
   ]
  },
  {
   "cell_type": "code",
   "execution_count": null,
   "metadata": {
    "executionInfo": {
     "elapsed": 30512,
     "status": "aborted",
     "timestamp": 1614425513778,
     "user": {
      "displayName": "Gianluca Vanacore",
      "photoUrl": "",
      "userId": "06404241270689432270"
     },
     "user_tz": -60
    },
    "id": "3Z_68JSEIrPC"
   },
   "outputs": [],
   "source": [
    "Means.to_pickle(\"{}Means.pkl\".format(myfolder))"
   ]
  },
  {
   "cell_type": "markdown",
   "metadata": {
    "id": "ExposOv7Isr2"
   },
   "source": [
    "### `pandas.DataFrame.to_excel`\n",
    "Another option to save our DataFrame *Means* on te local drive would be to create an Excel file like we did before. It contains the same columns and rows our DataFrame does. The obvious advantage of this method over `DataFrame.to_pickle`is that the file can also be read using Excel, while maintaining the option of importing it again in other notebooks. "
   ]
  },
  {
   "cell_type": "code",
   "execution_count": null,
   "metadata": {
    "executionInfo": {
     "elapsed": 30511,
     "status": "aborted",
     "timestamp": 1614425513779,
     "user": {
      "displayName": "Gianluca Vanacore",
      "photoUrl": "",
      "userId": "06404241270689432270"
     },
     "user_tz": -60
    },
    "id": "jpmXFJVFItpP"
   },
   "outputs": [],
   "source": [
    "from pandas import ExcelWriter\n",
    "from pandas import ExcelFile\n",
    "\n",
    "writer = ExcelWriter('Means.xlsx')\n",
    "Means.to_excel(writer,'data',index = True)\n",
    "writer.save()"
   ]
  },
  {
   "cell_type": "markdown",
   "metadata": {
    "id": "G0v0pnCAIwrj"
   },
   "source": [
    "# Model Performance\n",
    "<a id=\"performance\"></a>\n",
    "To test the accuracy of our computed $UR_{SS}$, we can compare the measured and steady state unemployment rates.\n",
    "\n",
    "## Simple scatter plot\n",
    "To start with, we will create a simple scatter plot using the `matplotlib` library we introduced earlier. We'll use it to compare *measured* and *steady-state* unemployment rates.\n"
   ]
  },
  {
   "cell_type": "code",
   "execution_count": null,
   "metadata": {
    "executionInfo": {
     "elapsed": 30509,
     "status": "aborted",
     "timestamp": 1614425513779,
     "user": {
      "displayName": "Gianluca Vanacore",
      "photoUrl": "",
      "userId": "06404241270689432270"
     },
     "user_tz": -60
    },
    "id": "B8_W5zRmIzBE"
   },
   "outputs": [],
   "source": [
    "Means.plot(x='Measured Unemployment Rate', y='Steady State Unemployment Rate', kind='scatter')\n",
    "plt.show()"
   ]
  },
  {
   "cell_type": "markdown",
   "metadata": {
    "id": "MGMqEeClIz04"
   },
   "source": [
    "## *Fancier* Scatter plot\n",
    "Using some more of `matplotlib's` functionalities, we can also create a more complex scatter plot in which we display not only the data points but also the country codes and a 45 degree line that helps visualise the case in which model and data overlap. In order to add country codes, the [documentation of the `matplotlib` on annotating](https://matplotlib.org/gallery/text_labels_and_annotations/annotation_demo.html) plots is very useful.\n",
    "\n",
    "We are going to begin by creating a version of our `DataFrame`*Means* without the NaN's. That makes it easier for Matplotlib to handle the data. The most convienient way to do this is to use [pandas.DataFrame.dropna](https://pandas.pydata.org/pandas-docs/stable/generated/pandas.DataFrame.dropna.html), which just removes all missing values in our `DataFrame`."
   ]
  },
  {
   "cell_type": "code",
   "execution_count": null,
   "metadata": {
    "executionInfo": {
     "elapsed": 30509,
     "status": "aborted",
     "timestamp": 1614425513780,
     "user": {
      "displayName": "Gianluca Vanacore",
      "photoUrl": "",
      "userId": "06404241270689432270"
     },
     "user_tz": -60
    },
    "id": "SCXEo2qmI0c8"
   },
   "outputs": [],
   "source": [
    "Means_noNaN = Means.dropna()"
   ]
  },
  {
   "cell_type": "markdown",
   "metadata": {
    "id": "QCQzOoCQI1PV"
   },
   "source": [
    "Next, we assign relevant columns of *Means* to variables to improve readability.\n",
    " - The two variables, the *measured* and *Steady State unemployment rate*.\n",
    " - The labels of our observations, the country codes."
   ]
  },
  {
   "cell_type": "code",
   "execution_count": null,
   "metadata": {
    "executionInfo": {
     "elapsed": 30507,
     "status": "aborted",
     "timestamp": 1614425513780,
     "user": {
      "displayName": "Gianluca Vanacore",
      "photoUrl": "",
      "userId": "06404241270689432270"
     },
     "user_tz": -60
    },
    "id": "i-5eNwcaI2DX"
   },
   "outputs": [],
   "source": [
    "Measured = Means_noNaN['Measured Unemployment Rate']\n",
    "SteadyState = Means_noNaN['Steady State Unemployment Rate']\n",
    "labels = Means_noNaN['Code']"
   ]
  },
  {
   "cell_type": "markdown",
   "metadata": {
    "id": "kUyZX1umI2s3"
   },
   "source": [
    "\n",
    "To specify what our [figure](https://matplotlib.org/api/_as_gen/matplotlib.pyplot.figure.html) should look like, we give Matplotlib the necessary information. \n",
    "- `figsize(width, height)`, this defines the size of the figure in inches.\n",
    "- *dpi*, this defines the figure's resolution, the default is *100*, we want our figure to be a little sharper.\n",
    "\n",
    "The actual data is entered in the next line, [`plt.scatter`](https://matplotlib.org/api/_as_gen/matplotlib.pyplot.scatter.html). This takes the measured (X-axis) and steady state (Y-axis) unemployment rate for each country and ads them as a point in our figure. In our case, the scatterplot takes the following inputs:\n",
    "- *Measured*, the x-coordinate (From the variable we assigned above).\n",
    "- *Steadystate*, the x-coordinate (From the variable we assigned above).\n",
    "- *alpha*, this defines how opaque the dots are. We go for a medium value so one can still see the country codes.\n",
    "- *color*, obviously the color of the dots.\n",
    "\n",
    "After that, we add the labels (country codes) to the observations, again, we use the `enumerate` function. It helps by assigning a number (i) to each country code (label). This number corresponds to the place of the observations in *Measured* and *Steadystate* and thereby enables us to assign the right country codes to the observations.\n",
    "\n",
    "In the last steps, we: \n",
    "- Create a list with the limits for Y- and X-axis to simplify the code.\n",
    "- Use this list to set the limits of the axes. This simply makes the plot look more tidy because there's no excess space at the ends of the axes we don't need.\n",
    "- Create a 45° line for orientation. Again, our list *limits* comes in handy.\n",
    "- Set labels and a matching title\n",
    "- Finally Show the plot!\n"
   ]
  },
  {
   "cell_type": "code",
   "execution_count": null,
   "metadata": {
    "executionInfo": {
     "elapsed": 30506,
     "status": "aborted",
     "timestamp": 1614425513781,
     "user": {
      "displayName": "Gianluca Vanacore",
      "photoUrl": "",
      "userId": "06404241270689432270"
     },
     "user_tz": -60
    },
    "id": "uPwvLyNlI3ff"
   },
   "outputs": [],
   "source": [
    "# Here we define the figure\n",
    "plt.figure(figsize=(12, 7), dpi=300)\n",
    "\n",
    "# Input the data\n",
    "plt.scatter(Measured, SteadyState, alpha=0.5, color='red')\n",
    "\n",
    "# Assigns the country code as label to te corresponding measurement\n",
    "for i, label in enumerate(labels):\n",
    "    plt.annotate(label, (Measured.iloc[i], SteadyState.iloc[i]))\n",
    "    \n",
    "# Store the axes-limits of our plot in a list    \n",
    "limits = [0,35]\n",
    "\n",
    "# Set axes limits\n",
    "plt.xlim(limits)\n",
    "plt.ylim(limits)\n",
    "\n",
    "# Create 45 degree line\n",
    "plt.plot(limits,limits, alpha=0.1, color='black')\n",
    "\n",
    "# Set labels and title\n",
    "plt.xlabel('Measured')\n",
    "plt.ylabel('Stedy State')\n",
    "plt.title('Measured vs. Steady State Unemployment Rate. Mean 2010Q2-2017Q4.')\n",
    "plt.show()"
   ]
  },
  {
   "cell_type": "markdown",
   "metadata": {
    "id": "9uRiJfHwI4QA"
   },
   "source": [
    "## Compute distance between model and data\n",
    "A useful method to compute the distance between the model and the data and tell how accurate our computations were is to use:\n",
    "\n",
    "$$\\text{Distance}=\\log{\\Big(\\frac{\\text{model}}{\\text{data}}\\Big)}^2$$\n",
    "\n",
    "We use the logarithm because it has the advantage of being magnitude-neutral, giving us the model's relative deviations from the data. \n",
    "\n",
    "We can also regress a magnitude-neutral measure of the difference between the model and the data to see if any of the inputs of the data is correlated with the model-data discrepancy.\n"
   ]
  },
  {
   "cell_type": "code",
   "execution_count": null,
   "metadata": {
    "executionInfo": {
     "elapsed": 30505,
     "status": "aborted",
     "timestamp": 1614425513781,
     "user": {
      "displayName": "Gianluca Vanacore",
      "photoUrl": "",
      "userId": "06404241270689432270"
     },
     "user_tz": -60
    },
    "id": "tALu2KMnI40z"
   },
   "outputs": [],
   "source": [
    "Means['Difference'] = 0.0 # Initiated as float\n",
    "\n",
    "for index,row in Means.iterrows():\n",
    "    model = Means.at[index,'Steady State Unemployment Rate']\n",
    "    data = Means.at[index,'Measured Unemployment Rate']\n",
    "    Means.at[index,'Difference'] = (math.log(model/data)**2)\n",
    "    \n",
    "Means"
   ]
  },
  {
   "cell_type": "markdown",
   "metadata": {
    "id": "OvRcdVoBI5hz"
   },
   "source": [
    "\n",
    "## Regress distance on model inputs\n",
    "Running a regression is relatively easy using the [`statsmodel`](http://www.statsmodels.org/stable/index.html) library. An example of how to run an OLS can be found [here](https://www.statsmodels.org/stable/examples/notebooks/generated/ols.html).\n",
    "\n",
    "### Regressions in Python\n",
    "It is possible to execute most types of regressions in python. \n",
    "\n",
    "This tutorial used OLS regression. OLS regression, meaning Ordinary Least Squares  creates a regression line \"minimzes the square distance between the predicted values and the actual values\" [source](https://blog.datarobot.com/ordinary-least-squares-in-python).\n",
    "It is a type of linear regression meaning that the model that a regression tries to fit comes from the equation:\n",
    "\n",
    "$$y={\\beta_0 +\\beta_1 x+e_i}$$\n",
    "\n",
    "In this linear trend line:\n",
    "- $y$ represents the result, on the y axis\n",
    "- $\\beta_0$ represents the interecept on the y-axis of the trend line\n",
    "- $\\beta_0$ represents the slope and is the marginal effect of an increase of x on y.\n",
    "- $e_i$ represnets the random error term which allows the model to take into account deviations due to factors that aren't taken into account in the model. \n",
    "\n",
    "\n",
    "When the regression is performed, it uses the OLS to fit the model by estimating the parameters ($\\beta$). The results give you the values of each parameter along with the standard error. If $\\beta$ is positive, it means there is a postive relationship between x and y. The p-value shows whether the effect is statistically signficant. It tests whether the p value is less than .05 (where the p-value is a hypothesis test). The R-squared value tells you how much variation in y is explained by x. \n",
    "\n",
    "OLS regressions can be expanded by including multiple variables, called a multivariate regression. Multivariable regression means that the data cannot be multicollinearity (one independent variable being dependent on what should have been an independent variable) otherwise there is inaccurant results. More detailed, econometric limitations may be found in  a statistics/econometrics 1 or 2 course or see [lecture on linear regressions](https://lectures.quantecon.org/py/ols.html).\n"
   ]
  },
  {
   "cell_type": "code",
   "execution_count": null,
   "metadata": {
    "executionInfo": {
     "elapsed": 30504,
     "status": "aborted",
     "timestamp": 1614425513782,
     "user": {
      "displayName": "Gianluca Vanacore",
      "photoUrl": "",
      "userId": "06404241270689432270"
     },
     "user_tz": -60
    },
    "id": "vbfSZs7EI6XA"
   },
   "outputs": [],
   "source": [
    "import statsmodels.api as sm\n",
    "\n",
    "Means['constant'] = 1.0 # Create a constant\n",
    "\n",
    "regression = sm.OLS(Means['Difference'], Means[['constant','EU','EN','UE','UN','NE','NU']], missing='drop')\n",
    "regresults = regression.fit()\n",
    "print(regresults.summary())"
   ]
  },
  {
   "cell_type": "markdown",
   "metadata": {
    "id": "_Ae8JytsI6-I"
   },
   "source": [
    "## Interpretation of OLS Regression\n",
    "This OLS regression tests which elements account for the distance between the model and the data. \n",
    "The outcome of this regression means that the linear line of fit is such:\n",
    "\n",
    "$$\\text{difference}={.0768 +.0546\\cdot EU -1.2626\\cdot EN +.0663\\cdot UE -.1830\\cdot UN +.0911\\cdot NE -.5086\\cdot NU + e_i}$$\n",
    "\n",
    "\n",
    "This explains the composition of the difference between the model and the data. The composition is made up of the transition rates and their magintude effects. You can see that EN has the largest effect to decreasing the distance between the model and the data and NE has the largest."
   ]
  },
  {
   "cell_type": "code",
   "execution_count": null,
   "metadata": {},
   "outputs": [],
   "source": [
    "import eurosta"
   ]
  },
  {
   "cell_type": "code",
   "execution_count": null,
   "metadata": {},
   "outputs": [],
   "source": []
  }
 ],
 "metadata": {
  "colab": {
   "collapsed_sections": [
    "sbZ2TkOwxnuh",
    "l716hc9yxnum",
    "d6bgb-1Dxnun",
    "B9oKB8tNxnun",
    "0lAi1Yv-xnuo",
    "YmOJBkCcxnuo",
    "FlG74BRhxnup",
    "TfDtJf2Zxnuq",
    "Lp1XjzhWxnuq",
    "ehxb-LfRxnur",
    "5Xa61xABxnur",
    "siuGD466xnut",
    "V0jF7u3bxnuu",
    "axi33F-gxnuu",
    "mly8ph4Cxnuu",
    "7gxvMyPtxnuv",
    "vZm0MpxIxnuw",
    "mTJVR5Hrxnuz",
    "R_mRFxuwxnuz",
    "z7_o8h86xnuz",
    "ljt_bekRxnu0",
    "V7F8laT5xnu1",
    "PzDmirW9xnu1",
    "t_tf_bzCGhHE",
    "J9XkN-qsxnu2",
    "v79p0VPCHTcz",
    "5_yae_2bDCtD",
    "_NZfiS1FInT1",
    "G0v0pnCAIwrj"
   ],
   "name": "Toturial_Replica.ipynb",
   "provenance": [],
   "toc_visible": true
  },
  "kernelspec": {
   "display_name": "Python 3",
   "language": "python",
   "name": "python3"
  },
  "language_info": {
   "codemirror_mode": {
    "name": "ipython",
    "version": 3
   },
   "file_extension": ".py",
   "mimetype": "text/x-python",
   "name": "python",
   "nbconvert_exporter": "python",
   "pygments_lexer": "ipython3",
   "version": "3.8.3"
  },
  "toc": {
   "base_numbering": 1,
   "nav_menu": {},
   "number_sections": true,
   "sideBar": true,
   "skip_h1_title": false,
   "title_cell": "Table of Contents",
   "title_sidebar": "Table of Contents",
   "toc_cell": false,
   "toc_position": {
    "height": "calc(100% - 180px)",
    "left": "10px",
    "top": "150px",
    "width": "288px"
   },
   "toc_section_display": false,
   "toc_window_display": true
  }
 },
 "nbformat": 4,
 "nbformat_minor": 4
}
