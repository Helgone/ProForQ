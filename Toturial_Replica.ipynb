{
 "cells": [
  {
   "cell_type": "markdown",
   "metadata": {},
   "source": [
    "# Table of Contents BRO!"
   ]
  },
  {
   "cell_type": "markdown",
   "metadata": {},
   "source": [
    "# Introduction to Model/Approach"
   ]
  },
  {
   "cell_type": "markdown",
   "metadata": {},
   "source": [
    "## Goal of this tutorial"
   ]
  },
  {
   "cell_type": "markdown",
   "metadata": {},
   "source": [
    "The goal of this tutorial is to present the features of the European labor market in Python consistently and with commentary. From a programming side, the main objective was working with data. From an economic side, the main objective was implementing an economic model and using programming to demonstrate features otherwise more difficult to demonstrate.\n",
    "\n",
    "This tutorial will focus mainly on the learnings from a programming perspective. However, this introduction will set up the background from an economic side to orientate the reader. There will be additional economic commentary throughout the sections."
   ]
  },
  {
   "cell_type": "markdown",
   "metadata": {},
   "source": [
    "## A simple model of the labor market"
   ]
  },
  {
   "cell_type": "markdown",
   "metadata": {},
   "source": [
    "A simple model of the labor market that is used in this tutorial catagorizes three states a working-age person can be in:\n",
    "1. Employed E\n",
    "2. Unemployed U\n",
    "3. Inactive or out of the labor force N\n",
    "\n",
    "Using three states you can analysze labor market indicators:\n",
    "\n",
    "* __Participation Rate__:  $$ \\frac{E + U}{E + U + N} $$\n",
    "\n",
    "* **Employment Rate**: $$ \\frac{E}{E + U + N} $$\n",
    "\n",
    "* **Unemployment Rate**: $$ \\frac{U}{E + U} $$\n",
    "\n",
    "The flows of people from one state to another are called **transitions**. Transition rates are calculated from using data that shows the beginning and end value of people in states, and then is calculated from the change.\n",
    "\n",
    "For example, UE transition rates represent the percentage of people unemployed at the beginning of the period that transition to being employed.\n",
    "\n",
    "It can be used to approximate how likely it is for an unemployed person to find a job (Job finding probablity).\n",
    "\n",
    "This will be elaborated upon further in the tutorial as it specific to certain sections."
   ]
  },
  {
   "cell_type": "code",
   "execution_count": null,
   "metadata": {},
   "outputs": [],
   "source": []
  }
 ],
 "metadata": {
  "kernelspec": {
   "display_name": "Python 3",
   "language": "python",
   "name": "python3"
  },
  "language_info": {
   "codemirror_mode": {
    "name": "ipython",
    "version": 3
   },
   "file_extension": ".py",
   "mimetype": "text/x-python",
   "name": "python",
   "nbconvert_exporter": "python",
   "pygments_lexer": "ipython3",
   "version": "3.8.3"
  }
 },
 "nbformat": 4,
 "nbformat_minor": 4
}
