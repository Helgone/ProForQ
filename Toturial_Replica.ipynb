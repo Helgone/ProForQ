{
 "cells": [
  {
   "cell_type": "markdown",
   "metadata": {},
   "source": [
    "# Table of Contents"
   ]
  },
  {
   "cell_type": "markdown",
   "metadata": {},
   "source": [
    "# Introduction to Model/Approach"
   ]
  },
  {
   "cell_type": "markdown",
   "metadata": {},
   "source": [
    "## Goal of this tutorial"
   ]
  },
  {
   "cell_type": "markdown",
   "metadata": {},
   "source": [
    "The goal of this tutorial is to present the features of the European labor market in Python consistently and with commentary. From a programming side, the main objective was working with data. From an economic side, the main objective was implementing an economic model and using programming to demonstrate features otherwise more difficult to demonstrate.\n",
    "\n",
    "This tutorial will focus mainly on the learnings from a programming perspective. However, this introduction will set up the background from an economic side to orientate the reader. There will be additional economic commentary throughout the sections."
   ]
  },
  {
   "cell_type": "markdown",
   "metadata": {},
   "source": [
    "## A simple model of the labor market"
   ]
  },
  {
   "cell_type": "markdown",
   "metadata": {},
   "source": [
    "A simple model of the labor market that is used in this tutorial catagorizes three states a working-age person can be in:\n",
    "1. Employed E\n",
    "2. Unemployed U\n",
    "3. Inactive or out of the labor force N\n",
    "\n",
    "Using three states you can analysze labor market indicators:\n",
    "\n",
    "* __Participation Rate__:  $$ \\frac{E + U}{E + U + N}\\label{eq1}\\tag{1} $$\n",
    "\n",
    "* **Employment Rate**: $$ \\frac{E}{E + U + N}\\label{eq2}\\tag{2} $$\n",
    "\n",
    "* **Unemployment Rate**: $$ \\frac{U}{E + U}\\label{eq3}\\tag{3} $$\n",
    "\n",
    "The flows of people from one state to another are called **transitions**. Transition rates are calculated from using data that shows the beginning and end value of people in states, and then is calculated from the change.\n",
    "\n",
    "For example, UE transition rates represent the percentage of people unemployed at the beginning of the period that transition to being employed.\n",
    "\n",
    "It can be used to approximate how likely it is for an unemployed person to find a job (Job finding probablity).\n",
    "\n",
    "This will be elaborated upon further in the tutorial as it specific to certain sections."
   ]
  },
  {
   "cell_type": "markdown",
   "metadata": {},
   "source": [
    "# Data"
   ]
  },
  {
   "cell_type": "markdown",
   "metadata": {},
   "source": [
    "## Eurostat Data"
   ]
  },
  {
   "cell_type": "markdown",
   "metadata": {},
   "source": [
    "In order to compare the different dynamics of countries related to transition rates and unemployment rates, data needs to be collected systematically and in a reliable manner. All data used in this tutorial is extracted from Eurostat which is an adminitrative branch of the European Commission located in Luxembourg. Its responsability is to provide statistical information to the institutions of the European Union and to encourage the harmonisation of statistical methods in order to ease comparison between data. In this section, we will discuss how Eurostat gather data and the degree of relability of its operations. Eurostat publishes its statistical database online for free on its [website](https://ec.europa.eu/eurostat)."
   ]
  },
  {
   "cell_type": "markdown",
   "metadata": {},
   "source": [
    "The data that will interest us in this tutorial are the one related to the **European Labor market**. The European Labor Force Survey is a survey conducted by Eurostat in order to find those data. The latter are obtained by interviewing a large sample of individuals directly. This data collection takes place over on a monthly, quarterly and annually basis. The European Labor Force Survey collects data by 4 manners:\n",
    "\n",
    "- Personal visits\n",
    "- Telephone interviews\n",
    "- Web interviews\n",
    "- Self-administered questionnaires (questionnaire that has been designed specifically to be completed by a respondent without intervention of the researchers)\n",
    "\n",
    "The overall accuracy of these methods have been proved to be high. Retrospectively, the results have been found to lay in a 95% confidence interval. For more information related to how Eurostat collects its data, you can consult this [page](https://ec.europa.eu/eurostat/cros/content/data-collection_en).\n"
   ]
  },
  {
   "cell_type": "markdown",
   "metadata": {},
   "source": [
    "## Data for this tutorial"
   ]
  },
  {
   "cell_type": "markdown",
   "metadata": {},
   "source": [
    "In Eurostat, you are able to download a .tsv file. Tsv files are similar to csv but use tabs to separate data instead of commas like in csv files. Or, you can use the Pyrostat API for python. However, the documentation at the moment of creating this tutorial is not clear enough to present in a clear way. It is based upon a json and unicode REST api from the eurostat page, but is beyond the scope of this tutorial. For more information see [eurostat web services](https://ec.europa.eu/eurostat/web/json-and-unicode-web-services) and [pyrostat](https://github.com/eurostat/pyrostat).\n",
    "\n",
    "The data used for this tutorial comes from the Eurostat website. In particular, the data set (sdg_08_30) with information [here](https://ec.europa.eu/eurostat/cache/metadata/en/sdg_08_30_esmsip2.htm).\n",
    "\n",
    "Therefore, the rest of the tutorial will focus on data import, cleaning and analysis starting with the provided Excel files from this class."
   ]
  },
  {
   "cell_type": "markdown",
   "metadata": {},
   "source": [
    "## Data in Python: Pandas and Data Formats"
   ]
  },
  {
   "cell_type": "markdown",
   "metadata": {},
   "source": [
    "This section will give a basic introduction into how data works in python and programming. Data in general can be stored in several different formats that organize it. The basic formats have been introduced in past tutorials (lists, dictionaries, tuples). More advanced ones are:\n",
    "1. Unstructured data files of .txt.\n",
    "2. Or structured data files:\n",
    "    * CSV files such as excel that separate data cells with a comma and creates tables.\n",
    "    * TSV files that separate data cells with tabs.\n",
    "\n",
    "They can be imported into python and stored in a data frame using the python extension pandas. The advantage of data frames is the wide variety of operations you can perform on them in python since it is a python object ([source](https://towardsdatascience.com/a-quick-introduction-to-the-pandas-python-library-f1b678f34673)).\n",
    "\n",
    "As a pandas dataframe is structed by rows and column, it is easier to select data compared to a list or a dictionary. You can also easily filter by column or row in order to derive conclusions or structure the data set for analysis. You can also join different pandas datasets as well as clean data easier than if you were working with another data type. These examples are elaborated upon below."
   ]
  },
  {
   "cell_type": "markdown",
   "metadata": {},
   "source": [
    "### Setting up your pandas enviorment"
   ]
  },
  {
   "cell_type": "markdown",
   "metadata": {},
   "source": [
    "It is often easy to import pandas as pd such so it easier to call it later on.\n",
    "\n",
    "`import pandas as pd`\n",
    "\n",
    "Additonally, it is common to also import it with the package *numpy*\n",
    "\n",
    "`import numpy as np`\n",
    "\n",
    "Numpy is used for analysis and computing in python."
   ]
  },
  {
   "cell_type": "markdown",
   "metadata": {},
   "source": [
    "### Reading data into a dataframe"
   ]
  },
  {
   "cell_type": "markdown",
   "metadata": {},
   "source": [
    "In order to convert structured files into a pandas data frame there are a variety of options that you can find here: [List of pandas functionalities](https://pandas.pydata.org/pandas-docs/stable/reference/index.html). Some examples are the ability to convert excel, json, html, csv, pickle, and sql. These are generally formatted as:\n",
    "\n",
    "`read_excel\n",
    "read_pickle\n",
    "read_json\n",
    "read_html\n",
    "etc.\n",
    "`\n",
    "\n"
   ]
  },
  {
   "cell_type": "markdown",
   "metadata": {},
   "source": [
    "### Creating a dataframe manually"
   ]
  },
  {
   "cell_type": "markdown",
   "metadata": {},
   "source": [
    "There is also the option with pandas to create a dataframe either manually or by using existing lists or dictionaries.\n",
    "\n",
    "For example, dataframes can be created from dictionaries."
   ]
  },
  {
   "cell_type": "code",
   "execution_count": 26,
   "metadata": {},
   "outputs": [
    {
     "data": {
      "text/html": [
       "<div>\n",
       "<style scoped>\n",
       "    .dataframe tbody tr th:only-of-type {\n",
       "        vertical-align: middle;\n",
       "    }\n",
       "\n",
       "    .dataframe tbody tr th {\n",
       "        vertical-align: top;\n",
       "    }\n",
       "\n",
       "    .dataframe thead th {\n",
       "        text-align: right;\n",
       "    }\n",
       "</style>\n",
       "<table border=\"1\" class=\"dataframe\">\n",
       "  <thead>\n",
       "    <tr style=\"text-align: right;\">\n",
       "      <th></th>\n",
       "      <th>apples</th>\n",
       "      <th>oranges</th>\n",
       "      <th>cucumber</th>\n",
       "      <th>spinach</th>\n",
       "      <th>beef</th>\n",
       "      <th>pepper</th>\n",
       "      <th>banana</th>\n",
       "    </tr>\n",
       "  </thead>\n",
       "  <tbody>\n",
       "    <tr>\n",
       "      <th>category</th>\n",
       "      <td>fruit</td>\n",
       "      <td>fruit</td>\n",
       "      <td>vegetable</td>\n",
       "      <td>vegetable</td>\n",
       "      <td>meat</td>\n",
       "      <td>vegetable</td>\n",
       "      <td>fruit</td>\n",
       "    </tr>\n",
       "  </tbody>\n",
       "</table>\n",
       "</div>"
      ],
      "text/plain": [
       "         apples oranges   cucumber    spinach  beef     pepper banana\n",
       "category  fruit   fruit  vegetable  vegetable  meat  vegetable  fruit"
      ]
     },
     "execution_count": 26,
     "metadata": {},
     "output_type": "execute_result"
    }
   ],
   "source": [
    "import pandas as pd\n",
    "#here, creating a food dictionary setting categories\n",
    "food_categories={\"apples\":\"fruit\",\n",
    "                  \"oranges\":\"fruit\",\n",
    "                  \"cucumber\":\"vegetable\",\n",
    "                  \"spinach\":\"vegetable\",\n",
    "                  \"beef\":\"meat\",\n",
    "                  \"pepper\":\"vegetable\",\n",
    "                  \"banana\":\"fruit\"\n",
    "                    }\n",
    "#created dataframe setting category as the index\n",
    "food_cat_df=pd.DataFrame(food_categories, index=[\"category\"])  \n",
    "food_cat_df\n"
   ]
  },
  {
   "cell_type": "markdown",
   "metadata": {},
   "source": [
    "Some other useful functions for dataframe in pandas will be used below, but are:\n",
    "\n",
    "* Transposing, or transforming columns into rows: df.T\n",
    "* Sorting by axis or values: df.sort_index(axis=1) or df.sort_values(by='category')\n",
    "* Selecting a single column: df['Fruit']\n",
    "* Statistic operations such as df.mean()\n",
    "* Merging and appending: pd.merge(), df.append(, pd.concat()\n",
    "\n",
    "The pandas documentation provides a very good description of what you can do with dataframes and if there is something that interests you beyond the application of this tutorial, it may very likely be found at [Pandas Documentation](https://pandas.pydata.org/pandas-docs/stable/getting_started/overview.html)."
   ]
  },
  {
   "cell_type": "markdown",
   "metadata": {},
   "source": [
    "# Set-Up"
   ]
  },
  {
   "cell_type": "markdown",
   "metadata": {},
   "source": [
    "## Import all packages"
   ]
  },
  {
   "cell_type": "markdown",
   "metadata": {},
   "source": [
    "Here, we will import all the packages that are used in the program. As packages have not been introduced in past tutorials, we will explain them in Python briefly.\n",
    "\n",
    "First, if running a Python program on your local hardrive for example in spydir, it will be necessary to install a package on your computer or a virtual enviorment (venv or virtualenv). Virtual enviorments allow you to separate packages and versions for individual projects. For more information see [section for creating virtual enviorments](https://packaging.python.org/tutorials/installing-packages/). Otherwise, Python will not be able to understand to what you are refering as it will not be defined. It is suggested you use the functionality [pip](https://pip.pypa.io/en/stable/user_guide/) which allows you to install from the [python packaging index](https://packaging.python.org/tutorials/installing-packages/).\n",
    "\n",
    "Once a packages has been installed, you may then import the function into a piece of code.\n",
    "\n",
    "However, for the purpose of this tutorial, jupyter does not require you to pip install the following packages. For convience and clarity, they will be imported in this section, but we will reference the specific libraries as a note throughout the tutorial."
   ]
  },
  {
   "cell_type": "code",
   "execution_count": 27,
   "metadata": {},
   "outputs": [],
   "source": [
    "import pandas as pd\n",
    "import numpy as np \n",
    "import matplotlib\n",
    "import matplotlib.pyplot as plt \n",
    "from pandas import ExcelWriter\n",
    "from pandas import ExcelFile\n",
    "import math\n",
    "import statsmodels as sm"
   ]
  },
  {
   "cell_type": "markdown",
   "metadata": {},
   "source": [
    "## Define the Folder"
   ]
  },
  {
   "cell_type": "markdown",
   "metadata": {},
   "source": [
    "Our data is in three different local folders:\n",
    "\n",
    "* `Total/` for all the working-age population.\n",
    "* `Female/` for only the working-age females.\n",
    "- `Male/` for only the working-age males.\n",
    "\n",
    "In this case it makes sense to specify which folder to use in advance. If we want to change from `Total/` to `Female/` later on, we can easily change the variable sex instead of having to search for the name of the folder in the whole code. The same holds true for the variable *myfolder*, if the location of the data changes later on, we can apply that change right here instead of searching for all the times we used that filepath.\n",
    "\n",
    "In general, the easiest way to find locally saved files with python on a mac is to use a relative filepath. This means Python starts searching for the file from the location of the Python code we are currently working with. Here, the folder *EuropesLM_Data/* is located within the same folder as the notebook. From there, Python proceeds by entering the *Male/* folder and then accesses whatever we specify later on. To execute everything the way we do in this tutorial, you should place the jupyter notebook in the same folder as the file *country_codes.xlsx* and the folder *EuropesLM_Data*.\n",
    "\n",
    "If on Windows, the easiest way is to use a full filepath, starting at the `C:/` directory and specifiing all steps to go from there."
   ]
  },
  {
   "cell_type": "code",
   "execution_count": 28,
   "metadata": {},
   "outputs": [],
   "source": [
    "sex = 'Male'\n",
    "myfolder = \"EuropesLM_Data/\" + sex + \"/\""
   ]
  },
  {
   "cell_type": "markdown",
   "metadata": {},
   "source": [
    "# Unemployment Rates"
   ]
  },
  {
   "cell_type": "markdown",
   "metadata": {},
   "source": [
    "Almost all countries in the world have developed a system and the infrastructure to record and approximate the unemployment rate of the labor force as accurately as possible. In order to understand its significance we shall agree on a clear definition in more detail than what was provided earlier. There are numerous definitions since the methodology for calculating the unemployment rate often varies among countries. Different definitions of employment and unemployment, as well as different data sources are used but the consensus is the following: unemployed people are those who are willing and available to work, and who have actively sought work within the past four weeks. Students, prisoners, or for example handicapped people do not match the definition and are not considered as unemployed but out of the labor force.\n",
    "\n",
    "To calculate the unemployment rate, the number of unemployed people is divided by the number of people in the labor force, which consists of all employed and unemployed people.\n",
    "\n",
    "***\n",
    "\n",
    "$\\mathbf{\\text{Unemployment rate}}$<br>\n",
    "***\n",
    "$$\\textrm{Unemployment rate} = \\frac{\\textrm{Number of unenployed people}}{\\textrm{Total Labour Force}}$$\n",
    "\n",
    "***\n",
    "\n",
    "Before we plot the unemployment rate for different countries, we want to give a little introduction to plotting in general."
   ]
  },
  {
   "cell_type": "markdown",
   "metadata": {},
   "source": [
    "## Matplotlib"
   ]
  },
  {
   "cell_type": "markdown",
   "metadata": {},
   "source": [
    "The most common library for plotting in python is [`Matplotlib`](https://matplotlib.org/stable/index.html). We are going to introduce its most important functionalities with some basic examples in the following section. In the following parts, we will further specify the functionalities when we use them."
   ]
  },
  {
   "cell_type": "markdown",
   "metadata": {},
   "source": [
    "```python\n",
    "import matplotlib\n",
    "import matplotlib.pyplot as plt\n",
    "import numpy as np\n",
    "import math\n",
    "import pandas as pd\n",
    "\n",
    "```"
   ]
  },
  {
   "cell_type": "markdown",
   "metadata": {},
   "source": [
    "To show the basic functionality of Matplotlib, here we create a sample plot\n",
    "\n",
    "* The List items in the argument of `plt.plot` contain the x and y coordinates, to refer to it later, we can add the argument label\n",
    "* If we want to see the plot in the Jupyter Notebook, we have to call the `plt.show` function"
   ]
  },
  {
   "cell_type": "code",
   "execution_count": 29,
   "metadata": {
    "hide_input": false
   },
   "outputs": [
    {
     "data": {
      "image/png": "[encoded data removed]",
      "text/plain": [
       "<Figure size 576x396 with 1 Axes>"
      ]
     },
     "metadata": {},
     "output_type": "display_data"
    }
   ],
   "source": [
    "plt.plot([1, 5, 3, 4, 7, 9],[1, 3, 3, 5, 7, 9], label = \"Random Graph\")\n",
    "plt.show()\n"
   ]
  },
  {
   "cell_type": "markdown",
   "metadata": {},
   "source": [
    "* Using `plt.ylabel`, we can give names to the axes\n",
    "* To make our plot look a little better, we use `plt.style.use()`. There's a variety of styles available [here](https://matplotlib.org/stable/gallery/style_sheets/style_sheets_reference.html)\n",
    "* The plot's title can be set with `plt.title()`\n",
    "* To see our labels in the plot, we simply call `plt.legend`, the location can be specified using the loc argument\n",
    "* If we want to show multiple graphs in one plot, we simply call `plt.plot()` again before calling `plt.show`."
   ]
  },
  {
   "cell_type": "code",
   "execution_count": 30,
   "metadata": {
    "hide_input": false
   },
   "outputs": [
    {
     "data": {
      "image/png": "[encoded data removed]",
      "text/plain": [
       "<Figure size 576x396 with 1 Axes>"
      ]
     },
     "metadata": {},
     "output_type": "display_data"
    }
   ],
   "source": [
    "plt.plot([1, 3, 6],[1, 3, 6], label = \"Linear\")\n",
    "plt.plot([1, 4, 5],[1, 3, 6], label = \"Not so Linear\")\n",
    "\n",
    "plt.ylabel(\"Some Random Numbers\", fontsize = 15)\n",
    "plt.style.use(\"seaborn\")\n",
    "plt.title(\"This is a random plot\", fontsize = 15)\n",
    "plt.legend(loc = \"center right\", fontsize = 10)\n",
    "plt.show()"
   ]
  },
  {
   "cell_type": "markdown",
   "metadata": {},
   "source": [
    "After this short introduction, we wanet to start by importing and plotting the measured unemployment rates."
   ]
  },
  {
   "cell_type": "markdown",
   "metadata": {},
   "source": [
    "## Import the measured Unemployment Rates"
   ]
  },
  {
   "cell_type": "markdown",
   "metadata": {},
   "source": [
    "The easiest way to handle our data is a [`pandas.DataFrame`](https://pandas.pydata.org/pandas-docs/stable/reference/api/pandas.DataFrame.html). Fortunately, Pandas as a useful function to read Excel files and create DataFrames out of them: [`pandas.read_excel`](https://pandas.pydata.org/pandas-docs/stable/reference/api/pandas.read_excel.html).\n",
    "\n",
    "However, depending on the shape of the data, there can be difficulties when handling Excel files with pandas. In our case that includes:\n",
    "\n",
    "1. Rows at the beginning of the spreadsheet that don't contain the data we're looking for and that we'd therefore like to skip when reading the Excel into a DataFrame.\n",
    "\n",
    "2. The shape of the Excel file is not in the way that would be conventional for [pandas](https://pandas.pydata.org/pandas-docs/stable/). The index (the time period) is usually in the rows instead of the columns.\n",
    "\n",
    "3. Eurostat records missing data with \":\" and a separate sheet for flags, while NaN is the proper way to record missing observations. This means we'll have to set all the missing observations to *NaN*.\n",
    "\n",
    "4. Some Country names, for example \"Germany (until 1990 former territory of the FRG)\" are in a format that makes it hard to use them in loops and other functionalities of python.\n",
    "\n",
    "5. To work efficiently with `pandas` classes, it is important to use the right [indexing](https://pandas.pydata.org/pandas-docs/stable/user_guide/indexing.html). In this case we are dealing with (a set of) [time series](https://pandas.pydata.org/pandas-docs/stable/user_guide/timeseries.html), so we want the index to have the proper functionality. In particular, our data refers to a full calendar year quarter which can be represented using a [period](https://pandas.pydata.org/pandas-docs/stable/user_guide/timeseries.html). This sort of information cannot be read from the Excel file as the reference to the quarters there is just a string.\n",
    "\n",
    "At the beginning, let's load the first sheet containing the actual data into a `pandas.DataFrame`. In this case, the `pd.read_excel` function gets five inputs:\n",
    "\n",
    "1. *aux_name*, the name and location of the file. We store it in a variable right away, that way the code is more readable and we can easily change it later\n",
    "\n",
    "2. *skiprows*, the information to skip the first 11 rows, these are the rows that don't contain necessary information\n",
    "\n",
    "3. *index_col*, which column to use as the DataFrame's index\n",
    "\n",
    "4. *sheet_name*, which of the Excel's sheets to use, the default would be 0, the first sheet"
   ]
  },
  {
   "cell_type": "markdown",
   "metadata": {},
   "source": [
    "```python\n",
    "# We store the filename in a variable, that makes it easier to change it later\n",
    "aux_name = myfolder + \"lfsq_urgan.xls\"\n",
    "# Next, read the first Excel sheet\n",
    "aux_data = pd.read_excel(aux_name, skiprows=11, index_col=0, sheet_name='Data')\n",
    "aux_data\n",
    "```"
   ]
  },
  {
   "cell_type": "markdown",
   "metadata": {},
   "source": [
    "After creating the `Pandas.DataFrame` , we want to start cleaning the data. As mentioned, there are two ways in which Eurostat records missing data. The first is by setting the otherwise empty cells to \":\". We can change those to NaN easily by using [`pandas.DataFrame.replace`](https://pandas.pydata.org/pandas-docs/stable/reference/api/pandas.DataFrame.replace.html) and giving the function the inputs:\n",
    "\n",
    "* \":\" - what should be replaced\n",
    "\n",
    "* \"np.NaN\" - the NaN functionality of Numpy that should be replaced with\n",
    "\n",
    "It will continue to find all \":\" in *aux_data* and replace them with NaN. Note that those are not just different strings but a method of numpy."
   ]
  },
  {
   "cell_type": "markdown",
   "metadata": {},
   "source": [
    "```python\n",
    "aux_data = aux_data.replace(':', np.NaN)\n",
    "```"
   ]
  },
  {
   "cell_type": "markdown",
   "metadata": {},
   "source": [
    "After the first sheet, we now want to create a second `Pandas.DataFrame` for the *flags* sheet of our excel file. The second sheet has the same format and contains flags for bad data. We will use it to set all those cells in *aux_data* to `np.nan`.\n",
    "\n",
    "Besides the inputs we used when reading the first sheet, here the function also gets the input:\n",
    "\n",
    "* *nrows = aux_data.shape[0]*, nrows tells `read_excel` how many rows to parse and [`pandas.DataFrame.shape`](https://pandas.pydata.org/pandas-docs/stable/reference/api/pandas.DataFrame.shape.html) passes the number of rows of our DataFrame *aux_data* as an integer."
   ]
  },
  {
   "cell_type": "markdown",
   "metadata": {},
   "source": [
    "```python\n",
    "aux_flags = pd.read_excel(aux_name, skiprows=11, index_col=0, nrows=aux_data.shape[0], sheet_name='Flags and Footnotes')\n",
    "```"
   ]
  },
  {
   "cell_type": "markdown",
   "metadata": {},
   "source": [
    "To prepare the DataFrames for later indexing, we have to transpose them. This is possible with the `DataFrame.T` function. What it does is basically to exchange columns and rows of the DataFrame."
   ]
  },
  {
   "cell_type": "markdown",
   "metadata": {},
   "source": [
    "```python\n",
    "aux_data = aux_data.T\n",
    "aux_flags = aux_flags.T\n",
    "```"
   ]
  },
  {
   "cell_type": "markdown",
   "metadata": {},
   "source": [
    "To find the cells in *aux_data* that correspond to flags in *aux_flags* and set them to NaN, we will use a function. This function will later:\n",
    "\n",
    "1. Iterate over the cells of our DataFrame\n",
    "\n",
    "2. Compare each cell of the *flags* sheet with the corresponding one in the *data* sheet\n",
    "\n",
    "3. Set the cell to *NaN* if the *flags* sheet contains a string.\n",
    "\n",
    "\n",
    "The iteration process works as follows:\n",
    "\n",
    "* We pass our DataFrames using [pandas.DataFrame.values](https://pandas.pydata.org/pandas-docs/stable/reference/api/pandas.DataFrame.values.html). It converts the DataFrames into a Numpy Array object which can be handled by the enumerate function.\n",
    "\n",
    "* Enumerate is extremely useful, it lets us iterate over someting (like a list) and automatically assign a counter to it\n",
    "\n",
    "\n",
    "In our case that will be the row and column number (integers) of the values in the passed DataFrame.values. That also explains why we convert the DataFrames into Numpy arrays - we can't adress a cell in a DataFrame by calling `DataFrame[row_number, column_number]` but we can do the same with a Numpy array."
   ]
  },
  {
   "cell_type": "markdown",
   "metadata": {},
   "source": [
    "```python\n",
    "# Our function get's two inputs, both of which will be sheets of an Excel file\n",
    "def flags_to_NaN(data,flags):\n",
    "    # Iterate over the array, return rows with their number\n",
    "    for row, l in enumerate(flags):\n",
    "        # Iterate over the row from the last line, return a single value with its column number\n",
    "        for column, value in enumerate(l):\n",
    "            # Check for strings\n",
    "            if type(value) is str:\n",
    "                data[row,column] = np.nan\n",
    "    return data\n",
    "```"
   ]
  },
  {
   "cell_type": "markdown",
   "metadata": {},
   "source": [
    "Now we apply our function to the DataFrames we created in the previous steps. In detail, it does this:\n",
    "\n",
    "1. `for row, l in enumerate(flags)`: This returns *row*, the row number and l, what the row contains (Something similar to: ['b' nan nan nan nan])\n",
    "\n",
    "2. `for column, value in enumerate(l)`: This returns *column*, the location of the value in *l* ('b' would be 0) and value, the value itself ('b')\n",
    "\n",
    "3. Then it checks if the value it has found is a string (The missing values are recorded with flags like 'b' or 'u'). If it is, it searches the exact same location in the array with the data (they have the same format so the rows and columns correspond) and sets it to np.nan\n",
    "\n",
    "We save the cleaned DataFrame as *mydata*."
   ]
  },
  {
   "cell_type": "markdown",
   "metadata": {},
   "source": [
    "```python\n",
    "aux_values = flags_to_NaN(aux_data.values, aux_flags.values)\n",
    "mydata = pd.DataFrame(aux_values)\n",
    "```"
   ]
  },
  {
   "cell_type": "markdown",
   "metadata": {},
   "source": [
    "To make working with the final DataFrame easier, we'll now simplify the names of *Germany* and *Macedonia*. The ?`DataFrame.rename` method takes input in form of a dictionary containing:\n",
    "\n",
    "1. The old column name as *Key*\n",
    "\n",
    "2. The new column name it should be changed to as *Value*"
   ]
  },
  {
   "cell_type": "markdown",
   "metadata": {},
   "source": [
    "```python\n",
    "aux_data = aux_data.rename(columns = {'Former Yugoslav Republic of Macedonia, the':'Macedonia'})\n",
    "aux_data = aux_data.rename(columns = {'Germany (until 1990 former territory of the FRG)':'Germany'})\n",
    "```"
   ]
  },
  {
   "cell_type": "markdown",
   "metadata": {},
   "source": [
    "Now, let's create a [`pd.period_range`](https://pandas.pydata.org/pandas-docs/stable/reference/api/pandas.period_range.html) called \"dates\" which we will use as an index for our final DataFrame. This practical function gets three important inputs:\n",
    "\n",
    "1. Start and end of the `pd.period_range`.\n",
    "2. The frequency \"Q\". This way it knows only to create new datapoints quarterly, instead of monthly or weekly.\n",
    "3. The name 'Quarterly Frequence'.\n",
    "4. It returns a Period Index with a fixed frequency that we can use as index for our DataFrame."
   ]
  },
  {
   "cell_type": "markdown",
   "metadata": {},
   "source": [
    "```python\n",
    "import pandas as pd\n",
    "# Create the pd.period_range\n",
    "dates = pd.period_range(start='2010Q2', end='2017Q4', freq='Q', name='Quarterly Frequence')\n",
    "# Set mydata's index to be the Period \"dates\" we just created\n",
    "mydata.index = dates\n",
    "```"
   ]
  },
  {
   "cell_type": "markdown",
   "metadata": {},
   "source": [
    "At last, some minor changes before we finish our DataFrame mydata:\n",
    "\n",
    "1. Correct the column names. We can simply re-use the names of the colums of aux_data.\n",
    "2. Drop the *Germany* column, the data in there is damaged and would cause trouble later.\n",
    "3. Give the column-row a fitting name."
   ]
  },
  {
   "cell_type": "markdown",
   "metadata": {},
   "source": [
    "```python\n",
    "# To set the names of the countries as column names, \n",
    "mydata.columns = aux_data.columns\n",
    "\n",
    "# Drop Germany\n",
    "mydata = mydata.drop(['Germany'], axis=1)\n",
    "\n",
    "# Update the name of the columns list\n",
    "mydata.columns.name = 'Countries'\n",
    "```"
   ]
  },
  {
   "cell_type": "markdown",
   "metadata": {},
   "source": [
    "1. Seasonally adjust the data.\n",
    "\n",
    "To prevent the data being influenced by strong seasonal deviations, we will use a \"moving average\". We calculate it by using:\n",
    "\n",
    "1. [`pandas.DataFrame.rolling`](https://pandas.pydata.org/pandas-docs/stable/reference/api/pandas.DataFrame.rolling.html), which works by always looking at 4 rows of the DataFrame. In our case, that equates to one year.\n",
    "\n",
    "2. [`pandas.DataFrame.mean`](https://pandas.pydata.org/pandas-docs/stable/reference/api/pandas.DataFrame.mean.html), which calculates the mean or average of what we pass it.\n",
    "\n",
    "In combination, those two calculate the moving average."
   ]
  },
  {
   "cell_type": "markdown",
   "metadata": {},
   "source": [
    "```python\n",
    "# Seasonally adjust data\n",
    "mydata = mydata.rolling(4).mean()\n",
    "mydata\n",
    "```"
   ]
  },
  {
   "cell_type": "markdown",
   "metadata": {},
   "source": [
    "Now we want to plot the Unemployment Rates of different countries against each other to see how they compare. We use some more functionalities of `Matplotlib` here.\n",
    "\n",
    "* `figsize(width, height)`, this defines the size of the figure in inches.\n",
    "* Set the limits of the axes. This simply makes the plot look more tidy because there's no excess space at the ends of the axes we don't need."
   ]
  },
  {
   "cell_type": "markdown",
   "metadata": {},
   "source": [
    "```python\n",
    "# Modifies the defult size of plots [13.0,6.0] inches\n",
    "matplotlib.rcParams['figure.figsize'] = [13.0,6.0]\n",
    "#mydata['Germany'].plot(legend=True)\n",
    "mydata['Sweden'].plot(legend=True) # Legend = True display the name of the country on the graph. \n",
    "mydata['Finland'].plot(legend=True)\n",
    "mydata['Switzerland'].plot(legend=True)\n",
    "mydata['Macedonia'].plot(legend=True)\n",
    "\n",
    "\n",
    "plt.ylim(0,35)  # the y axis ranges from 0 to 35\n",
    "plt.xlim(\"2011Q1\",\"2017Q4\")\n",
    "plt.ylabel('Unemployment Rate (%)', size = 14) # Name x axis\n",
    "plt.xlabel('Quaterly Frenquency', size = 14) # Name y axis\n",
    "plt.title('Unemployment rate in Percent for different countries', weight = 'bold', size = 20)\n",
    "plt.show()\n",
    "```"
   ]
  },
  {
   "cell_type": "markdown",
   "metadata": {},
   "source": [
    "# Transition Rates of the Labor Market"
   ]
  },
  {
   "cell_type": "markdown",
   "metadata": {},
   "source": [
    "Another type of data useful to provide us with insight concerning the European Labor Market is the transitions rates. They tell us how fast or how likely an individual move from a category to another. There are 9 different transitions formed by the 3 states a person can be in : 'U' for unemployed, 'E' for employed, and 'N' for out of the labor force. Therefore we can explicit all the different transitions from a period to another (t to t+1) by a matrix 3x3:\n",
    "\n",
    "|*Today/tomorrrow*|E|U|N|\n",
    "|:-----:|:--:|:--:|:--:|\n",
    "|**E**|EE|EU|EN|\n",
    "|**U**|UE|UU|UN|\n",
    "|**N**|NE|NU|NN|\n",
    "\n",
    "We can then analyse different indicators such as the EU + EN -> Job Destruction rate & UE + NE -> Job finding rate.\n",
    "\n",
    "Nevertheless, it is important to mention that we calculate transition rates and not exactly the probability to move from 1 state to another because of the following reasons. The way data is collected tells us how many people move across states **for a given period** and with those data we can compute the transitions rates. For example the UE transition rate (let's call the variable *rate_UE*) tells us the proportion of unemployed people that went from unemployment to employment during a given period. To calculate it, we divide the number of people that transitioned from the initial state to the target state by the number of people in the initial state and. This yields our variable *rate_UE*.\n",
    "\n",
    "Many transitions can happen at any time between the person is surveyed the 1st time and the second. The current data only measure the transition from point a to point b but not what happens in between. Since Eurostat does not register data in continuous but in a discret manner and changes happen in continuous, the transition rates are only an approximative of the probability to move from 1 state to another. Plus, since those rates should approximate probabilities, they can not be negative or greater than 1.\n",
    "\n",
    "## The `exec()` function\n",
    "Before we continue, we will briefly introduce the [`exec()`](https://docs.python.org/3/library/functions.html#exec) function.\n",
    "\n",
    "The exec() function was designed to run a python programme submitted as parameter. The code execution happens dynamically and is applicable to strings or object codes. In our case that makes it very useful for saving files or DataFrames with different names.\n",
    "\n",
    "The two important parts are:\n",
    "1. The `{}` brackets: They specify at which part of the string something from the `.format()` section should be put in.\n",
    "2. The `.format()` section: It specifies what should be put into the `{}` when the exec function is called.\n",
    "\n",
    "In our case, in each iteration the first `{}` takes the key of the dictionary and the second `{}` takes the corresponding value."
   ]
  },
  {
   "cell_type": "code",
   "execution_count": 34,
   "metadata": {},
   "outputs": [
    {
     "name": "stdout",
     "output_type": "stream",
     "text": [
      "One kilogram of Apple costs 2€\n",
      "One kilogram of Cherry costs 10€\n",
      "One kilogram of Peach costs 6€\n",
      "One kilogram of Banana costs 4€\n"
     ]
    }
   ],
   "source": [
    "example_dictionary = {\"Apple\" : \"2€\", \"Cherry\": \"10€\", \"Peach\": \"6€\", \"Banana\": \"4€\"}\n",
    "\n",
    "# Using the exec-function, we can easily print out a \"Pricelist\" made up from the keys and values of a dictionary\n",
    "for key in example_dictionary:\n",
    "    exec(\"print('One kilogram of {} costs {}')\".format(key, example_dictionary[key]))\n"
   ]
  },
  {
   "cell_type": "markdown",
   "metadata": {},
   "source": [
    "## Load all the excel files containing the absolute data about persons moving between states"
   ]
  },
  {
   "cell_type": "code",
   "execution_count": 36,
   "metadata": {},
   "outputs": [
    {
     "ename": "FileNotFoundError",
     "evalue": "[Errno 2] No such file or directory: 'EuropesLM_Data/Male/lfsi_long_q_EE.xls'",
     "output_type": "error",
     "traceback": [
      "\u001b[0;31m---------------------------------------------------------------------------\u001b[0m",
      "\u001b[0;31mFileNotFoundError\u001b[0m                         Traceback (most recent call last)",
      "\u001b[0;32m<ipython-input-36-9c32069d7180>\u001b[0m in \u001b[0;36m<module>\u001b[0;34m\u001b[0m\n\u001b[1;32m     13\u001b[0m         \u001b[0;31m# Load xls with data and flags\u001b[0m\u001b[0;34m\u001b[0m\u001b[0;34m\u001b[0m\u001b[0;34m\u001b[0m\u001b[0m\n\u001b[1;32m     14\u001b[0m         \u001b[0maux_name\u001b[0m \u001b[0;34m=\u001b[0m \u001b[0mmyfolder\u001b[0m \u001b[0;34m+\u001b[0m \u001b[0mfile_name\u001b[0m\u001b[0;34m\u001b[0m\u001b[0;34m\u001b[0m\u001b[0m\n\u001b[0;32m---> 15\u001b[0;31m         \u001b[0maux_data\u001b[0m \u001b[0;34m=\u001b[0m \u001b[0mpd\u001b[0m\u001b[0;34m.\u001b[0m\u001b[0mread_excel\u001b[0m\u001b[0;34m(\u001b[0m\u001b[0maux_name\u001b[0m\u001b[0;34m,\u001b[0m \u001b[0mskiprows\u001b[0m\u001b[0;34m=\u001b[0m\u001b[0;36m11\u001b[0m\u001b[0;34m,\u001b[0m \u001b[0mindex_col\u001b[0m\u001b[0;34m=\u001b[0m\u001b[0;36m0\u001b[0m\u001b[0;34m,\u001b[0m \u001b[0msheet_name\u001b[0m\u001b[0;34m=\u001b[0m\u001b[0;34m'Data'\u001b[0m\u001b[0;34m)\u001b[0m\u001b[0;34m\u001b[0m\u001b[0;34m\u001b[0m\u001b[0m\n\u001b[0m\u001b[1;32m     16\u001b[0m         \u001b[0maux_data\u001b[0m \u001b[0;34m=\u001b[0m \u001b[0maux_data\u001b[0m\u001b[0;34m.\u001b[0m\u001b[0mreplace\u001b[0m\u001b[0;34m(\u001b[0m\u001b[0;34m':'\u001b[0m\u001b[0;34m,\u001b[0m \u001b[0mnp\u001b[0m\u001b[0;34m.\u001b[0m\u001b[0mNaN\u001b[0m\u001b[0;34m)\u001b[0m\u001b[0;34m\u001b[0m\u001b[0;34m\u001b[0m\u001b[0m\n\u001b[1;32m     17\u001b[0m         aux_flags = pd.read_excel(aux_name, skiprows=11, index_col=0, nrows=aux_data.shape[0],\n",
      "\u001b[0;32m~/opt/anaconda3/lib/python3.8/site-packages/pandas/io/excel/_base.py\u001b[0m in \u001b[0;36mread_excel\u001b[0;34m(io, sheet_name, header, names, index_col, usecols, squeeze, dtype, engine, converters, true_values, false_values, skiprows, nrows, na_values, keep_default_na, verbose, parse_dates, date_parser, thousands, comment, skipfooter, convert_float, mangle_dupe_cols, **kwds)\u001b[0m\n\u001b[1;32m    302\u001b[0m \u001b[0;34m\u001b[0m\u001b[0m\n\u001b[1;32m    303\u001b[0m     \u001b[0;32mif\u001b[0m \u001b[0;32mnot\u001b[0m \u001b[0misinstance\u001b[0m\u001b[0;34m(\u001b[0m\u001b[0mio\u001b[0m\u001b[0;34m,\u001b[0m \u001b[0mExcelFile\u001b[0m\u001b[0;34m)\u001b[0m\u001b[0;34m:\u001b[0m\u001b[0;34m\u001b[0m\u001b[0;34m\u001b[0m\u001b[0m\n\u001b[0;32m--> 304\u001b[0;31m         \u001b[0mio\u001b[0m \u001b[0;34m=\u001b[0m \u001b[0mExcelFile\u001b[0m\u001b[0;34m(\u001b[0m\u001b[0mio\u001b[0m\u001b[0;34m,\u001b[0m \u001b[0mengine\u001b[0m\u001b[0;34m=\u001b[0m\u001b[0mengine\u001b[0m\u001b[0;34m)\u001b[0m\u001b[0;34m\u001b[0m\u001b[0;34m\u001b[0m\u001b[0m\n\u001b[0m\u001b[1;32m    305\u001b[0m     \u001b[0;32melif\u001b[0m \u001b[0mengine\u001b[0m \u001b[0;32mand\u001b[0m \u001b[0mengine\u001b[0m \u001b[0;34m!=\u001b[0m \u001b[0mio\u001b[0m\u001b[0;34m.\u001b[0m\u001b[0mengine\u001b[0m\u001b[0;34m:\u001b[0m\u001b[0;34m\u001b[0m\u001b[0;34m\u001b[0m\u001b[0m\n\u001b[1;32m    306\u001b[0m         raise ValueError(\n",
      "\u001b[0;32m~/opt/anaconda3/lib/python3.8/site-packages/pandas/io/excel/_base.py\u001b[0m in \u001b[0;36m__init__\u001b[0;34m(self, io, engine)\u001b[0m\n\u001b[1;32m    822\u001b[0m         \u001b[0mself\u001b[0m\u001b[0;34m.\u001b[0m\u001b[0m_io\u001b[0m \u001b[0;34m=\u001b[0m \u001b[0mstringify_path\u001b[0m\u001b[0;34m(\u001b[0m\u001b[0mio\u001b[0m\u001b[0;34m)\u001b[0m\u001b[0;34m\u001b[0m\u001b[0;34m\u001b[0m\u001b[0m\n\u001b[1;32m    823\u001b[0m \u001b[0;34m\u001b[0m\u001b[0m\n\u001b[0;32m--> 824\u001b[0;31m         \u001b[0mself\u001b[0m\u001b[0;34m.\u001b[0m\u001b[0m_reader\u001b[0m \u001b[0;34m=\u001b[0m \u001b[0mself\u001b[0m\u001b[0;34m.\u001b[0m\u001b[0m_engines\u001b[0m\u001b[0;34m[\u001b[0m\u001b[0mengine\u001b[0m\u001b[0;34m]\u001b[0m\u001b[0;34m(\u001b[0m\u001b[0mself\u001b[0m\u001b[0;34m.\u001b[0m\u001b[0m_io\u001b[0m\u001b[0;34m)\u001b[0m\u001b[0;34m\u001b[0m\u001b[0;34m\u001b[0m\u001b[0m\n\u001b[0m\u001b[1;32m    825\u001b[0m \u001b[0;34m\u001b[0m\u001b[0m\n\u001b[1;32m    826\u001b[0m     \u001b[0;32mdef\u001b[0m \u001b[0m__fspath__\u001b[0m\u001b[0;34m(\u001b[0m\u001b[0mself\u001b[0m\u001b[0;34m)\u001b[0m\u001b[0;34m:\u001b[0m\u001b[0;34m\u001b[0m\u001b[0;34m\u001b[0m\u001b[0m\n",
      "\u001b[0;32m~/opt/anaconda3/lib/python3.8/site-packages/pandas/io/excel/_xlrd.py\u001b[0m in \u001b[0;36m__init__\u001b[0;34m(self, filepath_or_buffer)\u001b[0m\n\u001b[1;32m     19\u001b[0m         \u001b[0merr_msg\u001b[0m \u001b[0;34m=\u001b[0m \u001b[0;34m\"Install xlrd >= 1.0.0 for Excel support\"\u001b[0m\u001b[0;34m\u001b[0m\u001b[0;34m\u001b[0m\u001b[0m\n\u001b[1;32m     20\u001b[0m         \u001b[0mimport_optional_dependency\u001b[0m\u001b[0;34m(\u001b[0m\u001b[0;34m\"xlrd\"\u001b[0m\u001b[0;34m,\u001b[0m \u001b[0mextra\u001b[0m\u001b[0;34m=\u001b[0m\u001b[0merr_msg\u001b[0m\u001b[0;34m)\u001b[0m\u001b[0;34m\u001b[0m\u001b[0;34m\u001b[0m\u001b[0m\n\u001b[0;32m---> 21\u001b[0;31m         \u001b[0msuper\u001b[0m\u001b[0;34m(\u001b[0m\u001b[0;34m)\u001b[0m\u001b[0;34m.\u001b[0m\u001b[0m__init__\u001b[0m\u001b[0;34m(\u001b[0m\u001b[0mfilepath_or_buffer\u001b[0m\u001b[0;34m)\u001b[0m\u001b[0;34m\u001b[0m\u001b[0;34m\u001b[0m\u001b[0m\n\u001b[0m\u001b[1;32m     22\u001b[0m \u001b[0;34m\u001b[0m\u001b[0m\n\u001b[1;32m     23\u001b[0m     \u001b[0;34m@\u001b[0m\u001b[0mproperty\u001b[0m\u001b[0;34m\u001b[0m\u001b[0;34m\u001b[0m\u001b[0m\n",
      "\u001b[0;32m~/opt/anaconda3/lib/python3.8/site-packages/pandas/io/excel/_base.py\u001b[0m in \u001b[0;36m__init__\u001b[0;34m(self, filepath_or_buffer)\u001b[0m\n\u001b[1;32m    351\u001b[0m             \u001b[0mself\u001b[0m\u001b[0;34m.\u001b[0m\u001b[0mbook\u001b[0m \u001b[0;34m=\u001b[0m \u001b[0mself\u001b[0m\u001b[0;34m.\u001b[0m\u001b[0mload_workbook\u001b[0m\u001b[0;34m(\u001b[0m\u001b[0mfilepath_or_buffer\u001b[0m\u001b[0;34m)\u001b[0m\u001b[0;34m\u001b[0m\u001b[0;34m\u001b[0m\u001b[0m\n\u001b[1;32m    352\u001b[0m         \u001b[0;32melif\u001b[0m \u001b[0misinstance\u001b[0m\u001b[0;34m(\u001b[0m\u001b[0mfilepath_or_buffer\u001b[0m\u001b[0;34m,\u001b[0m \u001b[0mstr\u001b[0m\u001b[0;34m)\u001b[0m\u001b[0;34m:\u001b[0m\u001b[0;34m\u001b[0m\u001b[0;34m\u001b[0m\u001b[0m\n\u001b[0;32m--> 353\u001b[0;31m             \u001b[0mself\u001b[0m\u001b[0;34m.\u001b[0m\u001b[0mbook\u001b[0m \u001b[0;34m=\u001b[0m \u001b[0mself\u001b[0m\u001b[0;34m.\u001b[0m\u001b[0mload_workbook\u001b[0m\u001b[0;34m(\u001b[0m\u001b[0mfilepath_or_buffer\u001b[0m\u001b[0;34m)\u001b[0m\u001b[0;34m\u001b[0m\u001b[0;34m\u001b[0m\u001b[0m\n\u001b[0m\u001b[1;32m    354\u001b[0m         \u001b[0;32melif\u001b[0m \u001b[0misinstance\u001b[0m\u001b[0;34m(\u001b[0m\u001b[0mfilepath_or_buffer\u001b[0m\u001b[0;34m,\u001b[0m \u001b[0mbytes\u001b[0m\u001b[0;34m)\u001b[0m\u001b[0;34m:\u001b[0m\u001b[0;34m\u001b[0m\u001b[0;34m\u001b[0m\u001b[0m\n\u001b[1;32m    355\u001b[0m             \u001b[0mself\u001b[0m\u001b[0;34m.\u001b[0m\u001b[0mbook\u001b[0m \u001b[0;34m=\u001b[0m \u001b[0mself\u001b[0m\u001b[0;34m.\u001b[0m\u001b[0mload_workbook\u001b[0m\u001b[0;34m(\u001b[0m\u001b[0mBytesIO\u001b[0m\u001b[0;34m(\u001b[0m\u001b[0mfilepath_or_buffer\u001b[0m\u001b[0;34m)\u001b[0m\u001b[0;34m)\u001b[0m\u001b[0;34m\u001b[0m\u001b[0;34m\u001b[0m\u001b[0m\n",
      "\u001b[0;32m~/opt/anaconda3/lib/python3.8/site-packages/pandas/io/excel/_xlrd.py\u001b[0m in \u001b[0;36mload_workbook\u001b[0;34m(self, filepath_or_buffer)\u001b[0m\n\u001b[1;32m     34\u001b[0m             \u001b[0;32mreturn\u001b[0m \u001b[0mopen_workbook\u001b[0m\u001b[0;34m(\u001b[0m\u001b[0mfile_contents\u001b[0m\u001b[0;34m=\u001b[0m\u001b[0mdata\u001b[0m\u001b[0;34m)\u001b[0m\u001b[0;34m\u001b[0m\u001b[0;34m\u001b[0m\u001b[0m\n\u001b[1;32m     35\u001b[0m         \u001b[0;32melse\u001b[0m\u001b[0;34m:\u001b[0m\u001b[0;34m\u001b[0m\u001b[0;34m\u001b[0m\u001b[0m\n\u001b[0;32m---> 36\u001b[0;31m             \u001b[0;32mreturn\u001b[0m \u001b[0mopen_workbook\u001b[0m\u001b[0;34m(\u001b[0m\u001b[0mfilepath_or_buffer\u001b[0m\u001b[0;34m)\u001b[0m\u001b[0;34m\u001b[0m\u001b[0;34m\u001b[0m\u001b[0m\n\u001b[0m\u001b[1;32m     37\u001b[0m \u001b[0;34m\u001b[0m\u001b[0m\n\u001b[1;32m     38\u001b[0m     \u001b[0;34m@\u001b[0m\u001b[0mproperty\u001b[0m\u001b[0;34m\u001b[0m\u001b[0;34m\u001b[0m\u001b[0m\n",
      "\u001b[0;32m~/opt/anaconda3/lib/python3.8/site-packages/xlrd/__init__.py\u001b[0m in \u001b[0;36mopen_workbook\u001b[0;34m(filename, logfile, verbosity, use_mmap, file_contents, encoding_override, formatting_info, on_demand, ragged_rows)\u001b[0m\n\u001b[1;32m    109\u001b[0m     \u001b[0;32melse\u001b[0m\u001b[0;34m:\u001b[0m\u001b[0;34m\u001b[0m\u001b[0;34m\u001b[0m\u001b[0m\n\u001b[1;32m    110\u001b[0m         \u001b[0mfilename\u001b[0m \u001b[0;34m=\u001b[0m \u001b[0mos\u001b[0m\u001b[0;34m.\u001b[0m\u001b[0mpath\u001b[0m\u001b[0;34m.\u001b[0m\u001b[0mexpanduser\u001b[0m\u001b[0;34m(\u001b[0m\u001b[0mfilename\u001b[0m\u001b[0;34m)\u001b[0m\u001b[0;34m\u001b[0m\u001b[0;34m\u001b[0m\u001b[0m\n\u001b[0;32m--> 111\u001b[0;31m         \u001b[0;32mwith\u001b[0m \u001b[0mopen\u001b[0m\u001b[0;34m(\u001b[0m\u001b[0mfilename\u001b[0m\u001b[0;34m,\u001b[0m \u001b[0;34m\"rb\"\u001b[0m\u001b[0;34m)\u001b[0m \u001b[0;32mas\u001b[0m \u001b[0mf\u001b[0m\u001b[0;34m:\u001b[0m\u001b[0;34m\u001b[0m\u001b[0;34m\u001b[0m\u001b[0m\n\u001b[0m\u001b[1;32m    112\u001b[0m             \u001b[0mpeek\u001b[0m \u001b[0;34m=\u001b[0m \u001b[0mf\u001b[0m\u001b[0;34m.\u001b[0m\u001b[0mread\u001b[0m\u001b[0;34m(\u001b[0m\u001b[0mpeeksz\u001b[0m\u001b[0;34m)\u001b[0m\u001b[0;34m\u001b[0m\u001b[0;34m\u001b[0m\u001b[0m\n\u001b[1;32m    113\u001b[0m     \u001b[0;32mif\u001b[0m \u001b[0mpeek\u001b[0m \u001b[0;34m==\u001b[0m \u001b[0;34mb\"PK\\x03\\x04\"\u001b[0m\u001b[0;34m:\u001b[0m \u001b[0;31m# a ZIP file\u001b[0m\u001b[0;34m\u001b[0m\u001b[0;34m\u001b[0m\u001b[0m\n",
      "\u001b[0;31mFileNotFoundError\u001b[0m: [Errno 2] No such file or directory: 'EuropesLM_Data/Male/lfsi_long_q_EE.xls'"
     ]
    }
   ],
   "source": [
    "states = ['E', 'U', 'N']\n",
    "transitions = [] # We set an empty list that will be filled with the 9 transitions\n",
    "\n",
    "for today in states:\n",
    "\n",
    "    for tomorrow in states:\n",
    "\n",
    "        # Create a frame name\n",
    "        frame_name = today + tomorrow\n",
    "        transitions.append(frame_name)\n",
    "        file_name = 'lfsi_long_q_' + frame_name + '.xls'\n",
    "\n",
    "        # Load xls with data and flags\n",
    "        aux_name = myfolder + file_name\n",
    "        aux_data = pd.read_excel(aux_name, skiprows=11, index_col=0, sheet_name='Data')\n",
    "        aux_data = aux_data.replace(':', np.NaN)\n",
    "        aux_flags = pd.read_excel(aux_name, skiprows=11, index_col=0, nrows=aux_data.shape[0],\n",
    "                                  sheet_name='Flags and Footnotes')\n",
    "\n",
    "        # Transpose data and flags\n",
    "        aux_data = aux_data.T\n",
    "        aux_flags = aux_flags.T\n",
    "\n",
    "        # Change the name of Macedonia\n",
    "        aux_data = aux_data.rename(columns = {'Former Yugoslav Republic of Macedonia, the':'Macedonia'})\n",
    "\n",
    "        # Update the name of the columns list\n",
    "        aux_data.columns.name = 'Countries'\n",
    "\n",
    "        # Convert data flags into NaNs\n",
    "        aux_values = flags_to_NaN(aux_data.values, aux_flags.values)\n",
    "        mydata_transitions = pd.DataFrame(aux_values)\n",
    "\n",
    "        # Set proper period index\n",
    "        mydata_transitions.index = dates\n",
    "\n",
    "        # Set proper column names\n",
    "        mydata_transitions.columns = aux_data.columns\n",
    "\n",
    "        # Set an appropiate name to the DataFrame\n",
    "        mydata_transitions.name = frame_name + ' Transitions'\n",
    "\n",
    "        # Save DataFrame with proper name\n",
    "        exec('{} = mydata_transitions'.format(frame_name))"
   ]
  },
  {
   "cell_type": "markdown",
   "metadata": {},
   "source": [
    "## Compute transition rates\n",
    "To compute the transitions rate we need to iterate over all the possible combinations of `['E','U','N']` and check that all the computed rates are in the [0,1] interval. In order to do the later, we can define a function that uses `DataFrame.min()` and `DataFrame.max()`. The function warns us if a value in the rows or column of the Dataframe is smaller than 0 or bigger than 1 since they represent probabilities. . max().max() will look at the maximum of the rows and maximum of the columns and similarily for min().min(). We don't have to check every single value because if the maximum and minimum values fulfill this criterium, the rest of the values will be okay, if not, we have to check the whole code anyway."
   ]
  },
  {
   "cell_type": "code",
   "execution_count": 37,
   "metadata": {},
   "outputs": [],
   "source": [
    "# 1. Maybe we can implement here exception handling?\n",
    "# Reason: Error handling allows to decide if we want our code to be interrupted\n",
    "# 2. We can indicate the user where there is an error e.g. \"Value bigger/smaller than one/zero in cell ...\"\n",
    "\n",
    "def check_rates(data):\n",
    "    if data.max().max() > 1: # If the max value of the data >1\n",
    "        print(\"ATENTION: In \" + data.name + \"at least one value bigger than 1\")\n",
    "    if data.min().min() < 0: # If the mmin ax value of the data <0\n",
    "        print(\"ATENTION: In \" + data.name + \"at least one value smaller than 0\")"
   ]
  },
  {
   "cell_type": "markdown",
   "metadata": {},
   "source": [
    "The excel file names containing the data regarding the transition rates have very similar names except that they differ at the end. They end by the respective transition rate (\"EE\" or \"UE\"). The list created above containing the 9 transitions helps us to find fast way to go through all the excel files."
   ]
  },
  {
   "cell_type": "code",
   "execution_count": 38,
   "metadata": {},
   "outputs": [
    {
     "ename": "NameError",
     "evalue": "name 'EE' is not defined",
     "output_type": "error",
     "traceback": [
      "\u001b[0;31m---------------------------------------------------------------------------\u001b[0m",
      "\u001b[0;31mNameError\u001b[0m                                 Traceback (most recent call last)",
      "\u001b[0;32m<ipython-input-38-80919a0d024a>\u001b[0m in \u001b[0;36m<module>\u001b[0;34m\u001b[0m\n\u001b[1;32m      3\u001b[0m \u001b[0;32mfor\u001b[0m \u001b[0mtoday\u001b[0m \u001b[0;32min\u001b[0m \u001b[0mstates\u001b[0m\u001b[0;34m:\u001b[0m\u001b[0;34m\u001b[0m\u001b[0;34m\u001b[0m\u001b[0m\n\u001b[1;32m      4\u001b[0m     \u001b[0;31m# Define E, U, and N stocks in the current period\u001b[0m\u001b[0;34m\u001b[0m\u001b[0;34m\u001b[0m\u001b[0;34m\u001b[0m\u001b[0m\n\u001b[0;32m----> 5\u001b[0;31m         \u001b[0mexec\u001b[0m\u001b[0;34m(\u001b[0m\u001b[0mtoday\u001b[0m \u001b[0;34m+\u001b[0m \u001b[0;34m' = '\u001b[0m \u001b[0;34m+\u001b[0m \u001b[0mtoday\u001b[0m\u001b[0;34m+\u001b[0m\u001b[0;34m'E + '\u001b[0m \u001b[0;34m+\u001b[0m \u001b[0mtoday\u001b[0m\u001b[0;34m+\u001b[0m\u001b[0;34m'U + '\u001b[0m \u001b[0;34m+\u001b[0m \u001b[0mtoday\u001b[0m\u001b[0;34m+\u001b[0m\u001b[0;34m'N'\u001b[0m\u001b[0;34m)\u001b[0m\u001b[0;34m\u001b[0m\u001b[0;34m\u001b[0m\u001b[0m\n\u001b[0m\u001b[1;32m      6\u001b[0m \u001b[0;34m\u001b[0m\u001b[0m\n\u001b[1;32m      7\u001b[0m         \u001b[0;32mfor\u001b[0m \u001b[0mtomorrow\u001b[0m \u001b[0;32min\u001b[0m \u001b[0mstates\u001b[0m\u001b[0;34m:\u001b[0m\u001b[0;34m\u001b[0m\u001b[0;34m\u001b[0m\u001b[0m\n",
      "\u001b[0;32m<string>\u001b[0m in \u001b[0;36m<module>\u001b[0;34m\u001b[0m\n",
      "\u001b[0;31mNameError\u001b[0m: name 'EE' is not defined"
     ]
    }
   ],
   "source": [
    "transition_rates = []\n",
    "\n",
    "for today in states:\n",
    "    # Define E, U, and N stocks in the current period\n",
    "        exec(today + ' = ' + today+'E + ' + today+'U + ' + today+'N')\n",
    "\n",
    "        for tomorrow in states:\n",
    "            frame_name = 'rate_'+today+tomorrow\n",
    "            transition_rates.append(frame_name)\n",
    "\n",
    "            # Create an auxiliary data set with all the transition rates (easier to use .name)\n",
    "            # E.g UE/E: number of people that go from unemployment to employment/number of people employed\n",
    "            exec('aux_data = {}{}/{}'.format(today,tomorrow,today))\n",
    "            # Set an appropiate name to the DataFrame\n",
    "            aux_name = '{}{} Transitions rates'.format(today,tomorrow)\n",
    "            aux_data.name = aux_name\n",
    "\n",
    "            # Check values\n",
    "            check_rates(aux_data)\n",
    "\n",
    "            # Save DataFrame with proper name\n",
    "            exec(frame_name + ' = aux_data')"
   ]
  },
  {
   "cell_type": "markdown",
   "metadata": {},
   "source": [
    "To see the results, we will plot some of our computed rates using `Matplotlib`. Its important to include the `sex` variable along with the data displayed in the title so there are no misunderstandings."
   ]
  },
  {
   "cell_type": "code",
   "execution_count": 39,
   "metadata": {},
   "outputs": [
    {
     "ename": "NameError",
     "evalue": "name 'rate_UE' is not defined",
     "output_type": "error",
     "traceback": [
      "\u001b[0;31m---------------------------------------------------------------------------\u001b[0m",
      "\u001b[0;31mNameError\u001b[0m                                 Traceback (most recent call last)",
      "\u001b[0;32m<ipython-input-39-dfe7ca7ebcd6>\u001b[0m in \u001b[0;36m<module>\u001b[0;34m\u001b[0m\n\u001b[1;32m      1\u001b[0m \u001b[0;31m#import matplotlib.pyplot as plt\u001b[0m\u001b[0;34m\u001b[0m\u001b[0;34m\u001b[0m\u001b[0;34m\u001b[0m\u001b[0m\n\u001b[1;32m      2\u001b[0m \u001b[0;34m\u001b[0m\u001b[0m\n\u001b[0;32m----> 3\u001b[0;31m \u001b[0mrate_UE\u001b[0m\u001b[0;34m.\u001b[0m\u001b[0mmean\u001b[0m\u001b[0;34m(\u001b[0m\u001b[0;34m)\u001b[0m\u001b[0;34m.\u001b[0m\u001b[0msort_values\u001b[0m\u001b[0;34m(\u001b[0m\u001b[0mascending\u001b[0m\u001b[0;34m=\u001b[0m\u001b[0;32mFalse\u001b[0m\u001b[0;34m)\u001b[0m\u001b[0;34m.\u001b[0m\u001b[0mplot\u001b[0m\u001b[0;34m.\u001b[0m\u001b[0mbar\u001b[0m\u001b[0;34m(\u001b[0m\u001b[0mcolor\u001b[0m\u001b[0;34m=\u001b[0m\u001b[0;34m'b'\u001b[0m\u001b[0;34m,\u001b[0m \u001b[0mfigsize\u001b[0m\u001b[0;34m=\u001b[0m\u001b[0;34m(\u001b[0m\u001b[0;36m14\u001b[0m\u001b[0;34m,\u001b[0m\u001b[0;36m7\u001b[0m\u001b[0;34m)\u001b[0m\u001b[0;34m)\u001b[0m\u001b[0;34m\u001b[0m\u001b[0;34m\u001b[0m\u001b[0m\n\u001b[0m\u001b[1;32m      4\u001b[0m \u001b[0;34m\u001b[0m\u001b[0m\n\u001b[1;32m      5\u001b[0m \u001b[0mplt\u001b[0m\u001b[0;34m.\u001b[0m\u001b[0mtitle\u001b[0m\u001b[0;34m(\u001b[0m\u001b[0;34m\"Average UE Rates ({}), 2010Q2-2017Q4\"\u001b[0m\u001b[0;34m.\u001b[0m\u001b[0mformat\u001b[0m\u001b[0;34m(\u001b[0m\u001b[0msex\u001b[0m\u001b[0;34m)\u001b[0m\u001b[0;34m)\u001b[0m\u001b[0;34m\u001b[0m\u001b[0;34m\u001b[0m\u001b[0m\n",
      "\u001b[0;31mNameError\u001b[0m: name 'rate_UE' is not defined"
     ]
    }
   ],
   "source": [
    "#import matplotlib.pyplot as plt\n",
    "\n",
    "rate_UE.mean().sort_values(ascending=False).plot.bar(color='b', figsize=(14,7))\n",
    "\n",
    "plt.title(\"Average UE Rates ({}), 2010Q2-2017Q4\".format(sex))\n",
    "plt.xlabel('Countries')\n",
    "plt.show()"
   ]
  },
  {
   "cell_type": "markdown",
   "metadata": {},
   "source": [
    "If we want to make our plot look a little fancier we can again use the broad functionality of `Matplotlib`\n",
    "- To have some variety, we use a different style than before *fivethirtyeight*.\n",
    "- We specify the plot to be a barplot and then decide on the labels for the individual bars."
   ]
  },
  {
   "cell_type": "code",
   "execution_count": null,
   "metadata": {},
   "outputs": [],
   "source": [
    "#import matplotlib\n",
    "\n",
    "matplotlib.style.use('fivethirtyeight') # to see all style available do: print(plt.style.available)\n",
    "# Display the mean of each country's unemployment rate between Q2 2010 and Q4 2017\n",
    "# sort_values(ascending = False) the values are displayed from the highest to the lowest\n",
    "ax = rate_UE.mean().sort_values(ascending=False).plot(kind='bar', figsize=(14,7), fontsize = 14, width=0.75)\n",
    "plt.title(\"Average UE Rates ({}), 2010Q2-2017Q4\".format(sex), fontsize=25)\n",
    "plt.xlabel('') # set x label as an empty string for stylistic reason\n",
    "\n",
    "# set individual bar lables\n",
    "for p in ax.patches:\n",
    "    ax.annotate(str(round(p.get_height(),2)), # 2 is number of decimals after the comma displayed.\n",
    "                (p.get_x()+p.get_width()/2., p.get_height()-0.025), # set the location where to display the average UE rate\n",
    "                ha='center', va='center', xytext=(0, 10), # center the text.\n",
    "                textcoords='offset points',\n",
    "                rotation=90) # rotate the number by 90°\n",
    "\n",
    "plt.show()"
   ]
  },
  {
   "cell_type": "markdown",
   "metadata": {},
   "source": [
    "## Export all the created DataFrames to `.xlsx` files\n",
    "`pandas` offers built-in functionality to simplify this task. See:\n",
    "- [`pandas.DataFrame.to_excel`](https://pandas.pydata.org/pandas-docs/stable/generated/pandas.DataFrame.to_excel.html).\n",
    "- [Working with Python Pandas and XlsxWriter](https://xlsxwriter.readthedocs.io/working_with_pandas.html).\n",
    "\n",
    "This will create an Excel file that contains the same columns and rows our DataFrame does. The obvious advantage of this method is that the file can  be read using Excel, while maintaining the option of importing it again in other notebooks. Pandas has a built-in functionality for this, called DataFrame.to_Excel. It works as follows:\n",
    "1. We loop over all possible transitions.\n",
    "2. We specify the name of the future Excel file.\n",
    "3. We specify what it should be created out of,\n",
    "4. We define the ExcelWriter.\n",
    "5. We convert the DataFrame to an Excel file and save it locally in the folder we specified above."
   ]
  },
  {
   "cell_type": "code",
   "execution_count": 33,
   "metadata": {},
   "outputs": [],
   "source": [
    "for rate in transition_rates:\n",
    "    # Define file name\n",
    "    file_name = '{}{}.xlsx'.format(myfolder,rate)\n",
    "\n",
    "    # Store DataFrame in aux_data\n",
    "    exec('aux_data = {}'.format(rate))\n",
    "\n",
    "    # Define Excel Writer\n",
    "    writer = pd.ExcelWriter(file_name)\n",
    "\n",
    "    # Convert DataFrame to Excel object.\n",
    "    aux_data.to_excel(writer, sheet_name='Data')\n",
    "    exec(\"{}.to_excel(writer, sheet_name='Data')\".format(rate))\n",
    "\n",
    "    # Close the Pandas Excel writer and output the Excel file\n",
    "    writer.save()"
   ]
  },
  {
   "cell_type": "markdown",
   "metadata": {},
   "source": [
    "# Steady State Unemployment Rates"
   ]
  },
  {
   "cell_type": "markdown",
   "metadata": {},
   "source": [
    "## Introduction to the Economic Side of Steady State Unemployment Rates"
   ]
  },
  {
   "cell_type": "code",
   "execution_count": null,
   "metadata": {},
   "outputs": [],
   "source": []
  },
  {
   "cell_type": "code",
   "execution_count": null,
   "metadata": {},
   "outputs": [],
   "source": []
  },
  {
   "cell_type": "code",
   "execution_count": null,
   "metadata": {},
   "outputs": [],
   "source": []
  },
  {
   "cell_type": "code",
   "execution_count": null,
   "metadata": {},
   "outputs": [],
   "source": []
  },
  {
   "cell_type": "code",
   "execution_count": null,
   "metadata": {},
   "outputs": [],
   "source": []
  }
 ],
 "metadata": {
  "kernelspec": {
   "display_name": "Python 3",
   "language": "python",
   "name": "python3"
  },
  "language_info": {
   "codemirror_mode": {
    "name": "ipython",
    "version": 3
   },
   "file_extension": ".py",
   "mimetype": "text/x-python",
   "name": "python",
   "nbconvert_exporter": "python",
   "pygments_lexer": "ipython3",
   "version": "3.8.3"
  }
 },
 "nbformat": 4,
 "nbformat_minor": 4
}
